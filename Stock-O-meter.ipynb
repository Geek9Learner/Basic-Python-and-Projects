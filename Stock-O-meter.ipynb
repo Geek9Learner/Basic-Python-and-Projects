{
 "cells": [
  {
   "cell_type": "code",
   "execution_count": 26,
   "id": "13833c1d",
   "metadata": {},
   "outputs": [],
   "source": [
    "import requests\n",
    "from bs4 import BeautifulSoup\n",
    "import time\n",
    "import smtplib"
   ]
  },
  {
   "cell_type": "code",
   "execution_count": 48,
   "id": "b9812007",
   "metadata": {},
   "outputs": [
    {
     "name": "stdout",
     "output_type": "stream",
     "text": [
      "107723\n",
      "Hey Email has been sent!! go check it out\n"
     ]
    }
   ],
   "source": [
    "def send_mail():\n",
    "    server=smtplib.SMTP('smtp.gmail.com',587)\n",
    "    server.ehlo()\n",
    "    server.starttls()\n",
    "    server.ehlo()\n",
    "    \n",
    "    server.login('keep9647smile@gmail.com','vmge uzbr pxdd otoq')\n",
    "    subject='Price Dropped for the stock'\n",
    "    body = \"check the link -https://www.screener.in/company/MRF/consolidated/\"\n",
    "    msg=f\"subject:{subject}\\n\\n{body}\"\n",
    "    \n",
    "    server.sendmail(\n",
    "        'keep9647smile@gmail.com',\n",
    "        'keep9647smile@gmail.com',\n",
    "        msg\n",
    "    )\n",
    "    print('Hey Email has been sent!! go check it out')\n",
    "    server.quit()\n",
    "    \n",
    "def check_price():\n",
    "    SCREENER_URI='https://www.screener.in/company/MRF/consolidated/'\n",
    "    response = requests.get(url=SCREENER_URI, headers={\n",
    "    \"User-Agent\": \"'User-Agent':'Mozilla/5.0 (Windows NT 10.0; Win64; x64) AppleWebKit/537.36 (KHTML, like Gecko) Chrome/118.0.0.0 Safari/537.36 Edg/118.0.2088.76'}\"\n",
    "    })\n",
    "    response.raise_for_status()\n",
    "\n",
    "    data = response.text\n",
    "    # Adding this print will fix the issue for consecutive days.\n",
    "    #print(data)\n",
    "    soup = BeautifulSoup(data, \"html.parser\")\n",
    "    total_price = soup.find(name=\"div\", class_=\"flex flex-align-center\").getText()\n",
    "    \n",
    "    \n",
    "    string_price_format=total_price.split()[1]\n",
    "    \n",
    "    if(len(string_price_format)<3):\n",
    "        current_share_price=float(total_price.split()[1])\n",
    "    else:\n",
    "        final_format=string_price_format.split(',')\n",
    "        current_share_price=''.join(final_format)\n",
    "        \n",
    "    print(current_share_price)\n",
    "\n",
    "    if int(current_share_price)<200000:\n",
    "        send_mail()\n",
    "        pass\n",
    "        \n",
    "if __name__==\"__main__\":\n",
    "    check_price()"
   ]
  },
  {
   "cell_type": "code",
   "execution_count": null,
   "id": "e4ac8e9e",
   "metadata": {},
   "outputs": [],
   "source": []
  }
 ],
 "metadata": {
  "kernelspec": {
   "display_name": "Python 3 (ipykernel)",
   "language": "python",
   "name": "python3"
  },
  "language_info": {
   "codemirror_mode": {
    "name": "ipython",
    "version": 3
   },
   "file_extension": ".py",
   "mimetype": "text/x-python",
   "name": "python",
   "nbconvert_exporter": "python",
   "pygments_lexer": "ipython3",
   "version": "3.11.4"
  }
 },
 "nbformat": 4,
 "nbformat_minor": 5
}
