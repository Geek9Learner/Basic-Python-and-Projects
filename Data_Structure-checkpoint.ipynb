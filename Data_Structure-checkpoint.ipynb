{
 "cells": [
  {
   "cell_type": "markdown",
   "id": "5273241c-7155-4a1b-9101-4b61fca7e67b",
   "metadata": {},
   "source": [
    "# Recursion"
   ]
  },
  {
   "cell_type": "markdown",
   "id": "0cb04d24-7c4f-478e-8e59-e0babb28f8b2",
   "metadata": {},
   "source": [
    "Function calling itself.\n",
    "\n",
    "Goal: Always try to find the base condition.\n",
    "1. Head Recursion\n",
    "2. Tail Recursion\n",
    "3. Tree Recursion"
   ]
  },
  {
   "cell_type": "markdown",
   "id": "c96217f2-c5b8-44f6-9d9f-ab6e19ad26b7",
   "metadata": {},
   "source": [
    "1. Tail Recursion: Function calling will be the last thing inside base case."
   ]
  },
  {
   "cell_type": "code",
   "execution_count": 4,
   "id": "91c55021-0131-485e-bfe5-816e79f9cdab",
   "metadata": {},
   "outputs": [
    {
     "name": "stdout",
     "output_type": "stream",
     "text": [
      "Enter the number:  4\n",
      "Square of 4 is : 16\n",
      "Square of 3 is : 9\n",
      "Square of 2 is : 4\n",
      "Square of 1 is : 1\n"
     ]
    }
   ],
   "source": [
    "'''Tail Recursion Example for square of numbers.\n",
    "    function will be called at last.\n",
    "'''\n",
    "\n",
    "def find_tail_rec_square(num):\n",
    "    if(num>0):\n",
    "        k=num**2\n",
    "        print(\"Square of {} is : {}\".format(num,k))\n",
    "        find_square(num-1)    # function calling itself at last\n",
    "    \n",
    "if __name__==\"__main__\":\n",
    "    n=input(\"Enter the number: \")\n",
    "    \"\"\"Handling exception for non Integers.\n",
    "        Using try and except block\"\"\"\n",
    "    try:\n",
    "        num=int(n)\n",
    "        find_tail_rec_square(num)\n",
    "    except:\n",
    "        print(\"Please try to enter integer!!\")"
   ]
  },
  {
   "cell_type": "markdown",
   "id": "f6cecfae-5432-4dfa-bf31-87340724f2d9",
   "metadata": {},
   "source": [
    "2. Head Recursion: Function calling will be the first thing inside base case."
   ]
  },
  {
   "cell_type": "code",
   "execution_count": 5,
   "id": "b5bd9388-b909-4677-afb9-704d66503a8c",
   "metadata": {},
   "outputs": [
    {
     "name": "stdout",
     "output_type": "stream",
     "text": [
      "Enter the number:  4\n",
      "Square of 1 is 1: \n",
      "Square of 2 is 4: \n",
      "Square of 3 is 9: \n",
      "Square of 4 is 16: \n"
     ]
    }
   ],
   "source": [
    "'''Below example of find square of num by head recursion'''\n",
    "def find_head_rec_square(num):\n",
    "    if(num>0):\n",
    "        find_head_rec_square(num-1) \n",
    "        \"\"\"\n",
    "            Recursion tree: f(4)-->f(3)-->f(2)-->f(1)\n",
    "            after calling f(1) it goes to exceute for k=num**2 then\n",
    "                                  16<--9<--4<--1<--1\n",
    "        \"\"\"\n",
    "        k=num**2\n",
    "        print(\"Square of {} is {}: \".format(num,k))\n",
    "        \n",
    "if __name__==\"__main__\":\n",
    "    n=input(\"Enter the number: \")\n",
    "    try:\n",
    "        num=int(n)\n",
    "        find_head_rec_square(num)\n",
    "    except:\n",
    "        print(\"Please enter the Integer input!!\")"
   ]
  },
  {
   "cell_type": "markdown",
   "id": "5bfe555f-808f-479d-83c8-ce1fdf5d14f1",
   "metadata": {},
   "source": [
    "3. Tree Recursion: Function calling itself make a structure like tree. also function calls itself more than 1 times."
   ]
  },
  {
   "cell_type": "code",
   "execution_count": 7,
   "id": "6ef02e66-411f-46eb-82b6-87f6a6d0e64e",
   "metadata": {},
   "outputs": [
    {
     "name": "stdout",
     "output_type": "stream",
     "text": [
      "Enter the number:  3\n",
      "Square of 1 is: 1 \n",
      "Square of 2 is: 4 \n",
      "Square of 1 is: 1 \n",
      "Square of 3 is: 9 \n",
      "Square of 1 is: 1 \n",
      "Square of 2 is: 4 \n",
      "Square of 1 is: 1 \n"
     ]
    }
   ],
   "source": [
    "'''Below python example for finding square with tail recursion'''\n",
    "def find_tail_rec_square(num):\n",
    "    if(num>0):\n",
    "        find_tail_rec_square(num-1)\n",
    "        k=num**2\n",
    "        print(\"Square of {} is: {} \".format(num,k))\n",
    "        find_tail_rec_square(num-1)\n",
    "    \n",
    "if __name__==\"__main__\":\n",
    "    n=input(\"Enter the number: \")\n",
    "    try:\n",
    "        num=int(n)\n",
    "        find_tail_rec_square(num)\n",
    "    except:\n",
    "        print(\"Please enter the Integer!!\")"
   ]
  },
  {
   "cell_type": "markdown",
   "id": "81585b06-9a1f-4013-aa6e-31da4fa1c13c",
   "metadata": {},
   "source": [
    "Recursion Tree of above Function call Find below."
   ]
  },
  {
   "cell_type": "code",
   "execution_count": 14,
   "id": "4c8e22c6-ffe4-4221-84d1-a1b3ef0fc953",
   "metadata": {},
   "outputs": [
    {
     "data": {
      "image/png": "[encoded data removed]",
      "text/plain": [
       "<PIL.PngImagePlugin.PngImageFile image mode=RGB size=1152x648 at 0x2424B9C6D90>"
      ]
     },
     "execution_count": 14,
     "metadata": {},
     "output_type": "execute_result"
    }
   ],
   "source": [
    "from PIL import Image\n",
    "tree_recursion=Image.open('Recursion_png.png')\n",
    "tree_recursion"
   ]
  },
  {
   "cell_type": "markdown",
   "id": "27e6bf48-ac29-41f4-bf3e-cdca59302a46",
   "metadata": {},
   "source": [
    "NOTE: Tail Recursion is the faster and efficient than others because function does not need to face function overhead."
   ]
  },
  {
   "cell_type": "markdown",
   "id": "254ba4c1-36d7-44c5-93f8-defbd7182cf7",
   "metadata": {},
   "source": [
    "# Searching Algorithms"
   ]
  },
  {
   "cell_type": "markdown",
   "id": "8eba9b6c-8fad-4bf0-9d8f-46ab2fbe2a13",
   "metadata": {},
   "source": [
    "1. Linear Search\n",
    "\n",
    "    Time Complexity = O(n)\n",
    "    \n",
    "    Space Complexity = O(1)"
   ]
  },
  {
   "cell_type": "code",
   "execution_count": 26,
   "id": "12daddb3-102e-44e3-83ef-8d65d237fc31",
   "metadata": {},
   "outputs": [
    {
     "name": "stdout",
     "output_type": "stream",
     "text": [
      "Enter the element for searching: 1000\n",
      "1000 is not inside mylist!!\n"
     ]
    }
   ],
   "source": [
    "def linearSearch(mylist,element):\n",
    "    for i in range(0,len(mylist)):\n",
    "        if(mylist[i]==element):\n",
    "            return i+1\n",
    "    return -1\n",
    "\n",
    "if __name__==\"__main__\":\n",
    "    mylist=[1,58,41,21,14,45,59,61,100]\n",
    "    ele=input(\"Enter the element for searching:\")\n",
    "    try:\n",
    "        element=int(ele)\n",
    "        index=linearSearch(mylist,element)\n",
    "        if(index>=0):\n",
    "            print(\"{} found at index {}\".format(element,index))\n",
    "        else:\n",
    "            print(\"{} is not inside mylist!!\".format(element))\n",
    "    except:\n",
    "        print(\"Please enter Integer value!!\")\n",
    "            "
   ]
  },
  {
   "cell_type": "markdown",
   "id": "cbcbce41-1491-4aea-9d89-06dbd4902b0d",
   "metadata": {},
   "source": [
    "Binary Search\n",
    "\n",
    "Only apply on sorted list or array. Use Divide and Conquer technique.\n",
    "\n",
    "Time Complexity = O(log n)\n",
    "\n",
    "Space Complexity = O(1)"
   ]
  },
  {
   "cell_type": "code",
   "execution_count": 6,
   "id": "6b465bbf-a9dd-4fd9-8103-18d0edb349b8",
   "metadata": {},
   "outputs": [
    {
     "name": "stdout",
     "output_type": "stream",
     "text": [
      "Enter the number for search:  95\n",
      "95 found at index 6\n"
     ]
    }
   ],
   "source": [
    "# binary search with Iterative Control Structure\n",
    "def binarySearch(numlist,element):\n",
    "    low=0;high=len(numlist)-1  # indexes that will be used for comparision\n",
    "    while(low<=high):\n",
    "        mid=(low+high)//2\n",
    "        if(numlist[mid]==element):\n",
    "            return mid\n",
    "        elif(numlist[mid]>element):\n",
    "            high=mid-1\n",
    "        else:\n",
    "            low=mid+1\n",
    "    return -1\n",
    "    \n",
    "if __name__==\"__main__\":\n",
    "    numList=[12,23,45,67,78,85,95,98,100,120]  # sorted list so we can apply binary search algo\n",
    "    num=input(\"Enter the number for search: \")\n",
    "    try:\n",
    "        element=int(num)\n",
    "        index=binarySearch(numList,element)\n",
    "        if(index>=0):\n",
    "            print(\"{} found at index {}\".format(element,index))\n",
    "        else:\n",
    "            print('Not Found!!')\n",
    "    except:\n",
    "        print('Please enter an integer for search!!')"
   ]
  },
  {
   "cell_type": "code",
   "execution_count": 1,
   "id": "da0d0d51-1256-42ff-840c-47afd686abe0",
   "metadata": {},
   "outputs": [
    {
     "data": {
      "text/plain": [
       "8"
      ]
     },
     "execution_count": 1,
     "metadata": {},
     "output_type": "execute_result"
    }
   ],
   "source": [
    "# Binary Search using Resursion\n",
    "numlist=[12,23,45,67,78,85,95,98,100,120]\n",
    "def binarySearch(numlist,element,low,high):\n",
    "    mid=(low+high)//2\n",
    "    if(numlist[mid]==element):\n",
    "        return mid\n",
    "    elif(numlist[mid]>element):\n",
    "        return binarySearch(numlist,element,low,mid-1)\n",
    "    else:\n",
    "        return binarySearch(numlist,element,mid+1,high)\n",
    "    if(low>high):\n",
    "        return -1\n",
    "    return 0\n",
    "\n",
    "# Function Calling\n",
    "binarySearch(numlist,100,0,9)"
   ]
  },
  {
   "cell_type": "markdown",
   "id": "085679f0-2934-44fb-baef-ac34efefc8a6",
   "metadata": {},
   "source": [
    "# Sorting"
   ]
  },
  {
   "cell_type": "markdown",
   "id": "6026fdff-0082-41dd-9c96-64dbee0101b5",
   "metadata": {},
   "source": [
    "A technique to arrange numbers in ascending or descending order."
   ]
  },
  {
   "cell_type": "markdown",
   "id": "faaeb0c2-6c12-4b6a-88f7-b2b8fcf36c21",
   "metadata": {},
   "source": [
    "Types Of Sorting\n",
    "\n",
    "1.Selection Sort\n",
    "\n",
    "2.Insertion Sort\n",
    "\n",
    "3.Bubble Sort\n",
    "\n",
    "4.Merge Sort\n",
    "\n",
    "5.Quick Sort\n",
    "\n",
    "6.Shell Sort\n",
    "\n",
    "7.Heap Sort\n",
    "\n",
    "8.Counting Sort\n",
    "\n",
    "9.Bucket Sort\n",
    "\n",
    "10.Radix Sort\n",
    "\n",
    "Note: First 7 sorting techique based on comparision of element. and Last 3 is based on Index."
   ]
  },
  {
   "cell_type": "markdown",
   "id": "e3f2ded8-2011-432a-a80c-27fe1eb2ffc0",
   "metadata": {},
   "source": [
    "# Selection Sort\n",
    "\n",
    "Idea: To find the minimum value corresponding to every index by comparing and swap both element."
   ]
  },
  {
   "cell_type": "markdown",
   "id": "581fee28-8a21-428a-aa08-074c03b83772",
   "metadata": {},
   "source": [
    "Time Complexity: O(n^{2})\n",
    "\n",
    "Space Complexity: O(1)"
   ]
  },
  {
   "cell_type": "code",
   "execution_count": 36,
   "id": "8f57582d-42a1-4de7-9985-8fa87c07cdc0",
   "metadata": {},
   "outputs": [
    {
     "name": "stdout",
     "output_type": "stream",
     "text": [
      "Before Sorting elements are:  [1, 29, 5, 4, 89, 0, 5, 25, 12]\n",
      "After Sorting elements are:  [0, 1, 4, 5, 5, 12, 25, 29, 89]\n"
     ]
    }
   ],
   "source": [
    "def selectionSort(A):\n",
    "    l=len(A)\n",
    "    for i in range(0,l):\n",
    "        position=i\n",
    "        for j in range(i+1,l):\n",
    "            if(A[position]>A[j]):\n",
    "                position=j\n",
    "        #Swapping two element using assignment operator\n",
    "        A[position],A[i]=A[i],A[position]\n",
    "if __name__==\"__main__\":\n",
    "    A=[1,29,5,4,89,0,5,25,12]\n",
    "    print('Before Sorting elements are: ',A)\n",
    "    selectionSort(A)\n",
    "    print('After Sorting elements are: ',A)"
   ]
  },
  {
   "cell_type": "markdown",
   "id": "24e50823-45b2-4bb8-b333-858b8048fc82",
   "metadata": {},
   "source": [
    "# Insertion Sort\n",
    "\n",
    "Idea:Compare two value if it is sorted then move forward else swap those two element.So basically we will compare until it gets their order"
   ]
  },
  {
   "cell_type": "markdown",
   "id": "594fd4ab-80e6-48da-9822-00720c19962d",
   "metadata": {},
   "source": [
    "Time Complexity:O({n}^2)\n",
    "    \n",
    "Space Complexity:O(1)"
   ]
  },
  {
   "cell_type": "code",
   "execution_count": 42,
   "id": "e299bd61-d44c-4489-a60d-b03c8b0ca199",
   "metadata": {},
   "outputs": [
    {
     "name": "stdout",
     "output_type": "stream",
     "text": [
      "Before Sorting:  [25, 14, 54, 78, 1, 24, 56, 13, 18, 17]\n",
      "After sorting:  [1, 13, 14, 17, 18, 24, 25, 54, 56, 78]\n"
     ]
    }
   ],
   "source": [
    "def insertionSort(B):\n",
    "    l=len(B)\n",
    "    for i in range(0,l):\n",
    "        for j in range(i+1,l):\n",
    "            if(B[i]<=B[j]):\n",
    "                continue\n",
    "            else:\n",
    "                B[i],B[j]=B[j],B[i]\n",
    "                #print(B)\n",
    "        #print('Cycle: ',i)   # for understanding each swap operation then uncomment both lines.\n",
    "                \n",
    "if __name__==\"__main__\":\n",
    "    B=[25,14,54,78,1,24,56,13,18,17]\n",
    "    print('Before Sorting: ',B)\n",
    "    insertionSort(B)\n",
    "    print('After sorting: ',B)"
   ]
  },
  {
   "cell_type": "markdown",
   "id": "a49aea9e-850c-41f4-ad1c-9fea3ea5a0e8",
   "metadata": {},
   "source": [
    "# Bubble Sort\n",
    "\n",
    "Idea:\n",
    "    "
   ]
  },
  {
   "cell_type": "markdown",
   "id": "614e433f-0e97-4e1d-95ef-b2a35fba1abc",
   "metadata": {},
   "source": [
    "Time Complexity:O({n}^2)\n",
    "    \n",
    "Space Complexity:O(1)\n"
   ]
  },
  {
   "cell_type": "code",
   "execution_count": 50,
   "id": "093e8445-b431-48c7-b28f-e95324e51e86",
   "metadata": {},
   "outputs": [
    {
     "name": "stdout",
     "output_type": "stream",
     "text": [
      "Before Sorting:  [3, -5, 60, 18, 9, 2]\n",
      "After Sorting:  [-5, 2, 3, 9, 18, 60]\n"
     ]
    }
   ],
   "source": [
    "def bubbleSort(A):\n",
    "    l=len(A)\n",
    "    for i in range(0,l):\n",
    "        for j in range(0,l-1):\n",
    "            if(A[j]<=A[j+1]):\n",
    "                continue\n",
    "            else:\n",
    "                A[j+1],A[j]=A[j],A[j+1]\n",
    "                #print(A)\n",
    "        #print('cycle: ',i)\n",
    "                \n",
    "if __name__==\"__main__\":\n",
    "    A=[3,-5,60,18,9,2]\n",
    "    print(\"Before Sorting: \",A)\n",
    "    bubbleSort(A)\n",
    "    print(\"After Sorting: \",A)"
   ]
  },
  {
   "cell_type": "markdown",
   "id": "18efd9a8-8014-4ecb-a426-6803e684154c",
   "metadata": {},
   "source": [
    "# Shell Sort\n",
    "\n",
    "Idea:Optimized version of Insertion sort. But we compare element with gap in both side left(current-gap) and right(current+gap). Swap the right value if left value is already sorted."
   ]
  },
  {
   "cell_type": "markdown",
   "id": "9a92ece5-07a4-48b4-a6af-9fbfba766bcd",
   "metadata": {},
   "source": [
    "Time Complexity: n(log(n))\n",
    "\n",
    "Space Complexity: O(1)\n"
   ]
  },
  {
   "cell_type": "code",
   "execution_count": 79,
   "id": "b7fc1245-dfb3-4123-8546-cf9219a5569b",
   "metadata": {},
   "outputs": [
    {
     "name": "stdout",
     "output_type": "stream",
     "text": [
      "Before Sorting:  [15, 8, 2, 45, 21, 16, 13, 120, 54]\n",
      "After Sorting:  [2, 8, 13, 15, 16, 21, 45, 54, 120]\n",
      "Congrats you did something different!!!\n"
     ]
    }
   ],
   "source": [
    "def shellSort(A):\n",
    "    gap=len(A)//2;l=len(A)\n",
    "    while(gap>0):\n",
    "        i=0\n",
    "        while(i<l and i+gap<l):\n",
    "            if(A[i]>A[i+gap]):\n",
    "                A[i],A[i+gap]=A[i+gap],A[i]\n",
    "                if(i-gap>=0 and A[i-gap]>A[i]):\n",
    "                   A[i],A[i-gap]=A[i-gap],A[i]\n",
    "            i=i+1\n",
    "        gap=gap//2\n",
    "\n",
    "if __name__==\"__main__\":\n",
    "    A=[15,8,2,45,21,16,13,120,54]\n",
    "    print('Before Sorting: ',A)\n",
    "    shellSort(A)\n",
    "    print(\"After Sorting: \",A)\n",
    "    print(\"Congrats you did something different!!!\")"
   ]
  },
  {
   "cell_type": "markdown",
   "id": "35d0aad2-3e01-4e06-8f30-f36bce102617",
   "metadata": {},
   "source": [
    "# Merge Sort\n",
    "Idea: divide the array/List into two halves until it becomes the size of 1. And individual element is self sorted. then we will merge each sorted array/list by comparing element."
   ]
  },
  {
   "cell_type": "markdown",
   "id": "db996c5c-f71c-473a-8b40-af803fb419f5",
   "metadata": {},
   "source": [
    "Time Complexity:O(nlog{n})\n",
    "\n",
    "Space Complexity: O(n) : for storing data for temp array"
   ]
  },
  {
   "cell_type": "code",
   "execution_count": 101,
   "id": "9f049a16-e86c-469c-816f-dc8caaf48138",
   "metadata": {},
   "outputs": [
    {
     "name": "stdout",
     "output_type": "stream",
     "text": [
      "[11, 15, 23, 34, 45, 55, 67, 78, 98]\n"
     ]
    }
   ],
   "source": [
    "def mergeSort(arr):\n",
    "    if(len(arr)>1):\n",
    "        mid=len(arr)//2\n",
    "# Dividing array into two halves from mid point L=Left_array R=Right_array\n",
    "        L=arr[:mid]\n",
    "        R=arr[mid:]\n",
    "        mergeSort(L)\n",
    "        mergeSort(R)\n",
    "#Copying sorted array data into original array         \n",
    "        i=0;j=0;k=0\n",
    "        while(i<len(L) and j<len(R)):\n",
    "            if(L[i]<R[j]):\n",
    "                arr[k]=L[i]\n",
    "                i=i+1\n",
    "            else:\n",
    "                arr[k]=R[j]\n",
    "                j=j+1\n",
    "            k=k+1\n",
    "# Copying the remaining element inside temp array.. if it is remaining.       \n",
    "        while(i<len(L)):\n",
    "            arr[k]=L[i]\n",
    "            k=k+1;i=i+1\n",
    "        while(j<len(R)):\n",
    "            arr[k]=R[j]\n",
    "            k=k+1;j=j+1\n",
    "        \n",
    "        \n",
    "if __name__==\"__main__\":\n",
    "    arr=[67,98,23,15,11,78,55,34,45]\n",
    "    mergeSort(arr)\n",
    "    print(arr)\n",
    "    "
   ]
  },
  {
   "cell_type": "markdown",
   "id": "489c089e-faeb-4e3e-9647-5693c3041f99",
   "metadata": {},
   "source": [
    "# Quick Sort\n",
    "Idea: Divide and Conquer Approach. all left element across pivot should be smaller and right side element should be always greater."
   ]
  },
  {
   "cell_type": "markdown",
   "id": "1f253d1a-a10f-417b-a201-3815f31ba3ae",
   "metadata": {},
   "source": [
    "Time Complexity: Worst case O(n{^2}): When array is already sorted. Best case O(nlog{n}) for general array.\n",
    "\n",
    "Space Complexity:O(1)"
   ]
  },
  {
   "cell_type": "code",
   "execution_count": 104,
   "id": "138a0f4a-d479-4c20-b283-e44f5d812a29",
   "metadata": {},
   "outputs": [
    {
     "name": "stdout",
     "output_type": "stream",
     "text": [
      "Sorted array: [1, 5, 7, 8, 9, 10]\n"
     ]
    }
   ],
   "source": [
    "def partition(array, low, high):\n",
    "\n",
    "# Choose the rightmost element as pivot\n",
    "    pivot = array[high]\n",
    "\n",
    "# Pointer for greater element\n",
    "    i = low - 1\n",
    "\n",
    "# Traverse through all elements\n",
    "# compare each element with pivot\n",
    "    for j in range(low, high):\n",
    "        if array[j] <= pivot:\n",
    "# If element smaller than pivot is found\n",
    "# swap it with the greater element pointed by i\n",
    "            i = i + 1\n",
    "\n",
    "# Swapping element at i with element at j\n",
    "            (array[i], array[j]) = (array[j], array[i])\n",
    "\n",
    "# Swap the pivot element with the greater element specified by i\n",
    "    (array[i + 1], array[high]) = (array[high], array[i + 1])\n",
    "\n",
    "# Return the position from where partition is done\n",
    "    return i + 1\n",
    "\n",
    "# Function to perform quicksort\n",
    "def quick_sort(array, low, high):\n",
    "    if low < high:\n",
    "        # Find pivot element such that\n",
    "        # element smaller than pivot are on the left\n",
    "        # element greater than pivot are on the right\n",
    "        \n",
    "        pi = partition(array, low, high)\n",
    "\n",
    "        # Recursive call on the left of pivot\n",
    "        \n",
    "        quick_sort(array, low, pi - 1)\n",
    "\n",
    "        # Recursive call on the right of pivot\n",
    "        \n",
    "        quick_sort(array, pi + 1, high)\n",
    "          \n",
    "# Driver code\n",
    "array = [ 10, 7, 8, 9, 1, 5]\n",
    "quick_sort(array, 0, len(array) - 1)\n",
    "\n",
    "print(f'Sorted array: {array}')\n"
   ]
  },
  {
   "cell_type": "markdown",
   "id": "7fbc2766-eaed-43e5-b710-d3c4056f523c",
   "metadata": {},
   "source": [
    "# Counting Sort\n",
    "\n",
    "Idea: Count all the elements in array and append in a list for their individual repitition. Used when there are more duplicate element in the array."
   ]
  },
  {
   "cell_type": "markdown",
   "id": "166b7236-91b8-4638-b88d-3646f34e8107",
   "metadata": {},
   "source": [
    "Time Complexity: O(n+m)\n",
    "    \n",
    "Space Complexity: O(m) where m= max element available in array."
   ]
  },
  {
   "cell_type": "code",
   "execution_count": 124,
   "id": "3dadad6e-ff99-409e-b89b-376c1b217196",
   "metadata": {},
   "outputs": [
    {
     "name": "stdout",
     "output_type": "stream",
     "text": [
      "Before Sorting: [5, 2, 1, 4, 5, 8, 9, 5, 7, 3, 3, 6, 7, 2, 4, 2]\n",
      "After Sorting:  [1, 2, 2, 2, 3, 3, 4, 4, 5, 5, 5, 6, 7, 7, 8, 9]\n"
     ]
    }
   ],
   "source": [
    "def countingSort(arr):\n",
    "    \n",
    "    #To find max element in array for size of count array\n",
    "    maxsize=max(arr)\n",
    "    count=[0]*(maxsize+1)\n",
    "    \n",
    "    #To take count of repeating element\n",
    "    for i in range(0,len(arr)):\n",
    "        count[arr[i]] +=1;\n",
    "   \n",
    "    #To take array element in temp array\n",
    "    result=[]\n",
    "    i=0\n",
    "    while(i<maxsize+1):\n",
    "        if(count[i]>0):\n",
    "            result.append(i)\n",
    "            count[i] -=1\n",
    "        else:\n",
    "            i=i+1\n",
    "    return result\n",
    "            \n",
    "    \n",
    "if __name__==\"__main__\":\n",
    "    arr=[5,2,1,4,5,8,9,5,7,3,3,6,7,2,4,2]\n",
    "    print(\"Before Sorting:\",arr)\n",
    "    sorted_list=countingSort(arr)\n",
    "    print(\"After Sorting: \",sorted_list)"
   ]
  },
  {
   "cell_type": "markdown",
   "id": "61784947-e70e-47c2-bf80-e8aba40a6970",
   "metadata": {},
   "source": [
    "# Radix Sort\n",
    "Idea: every digit made up of 0 to 9 so we will try to sort the numbers based on theirs digits at every places."
   ]
  },
  {
   "cell_type": "markdown",
   "id": "f652c402-196d-4d46-aacf-b89be9dc283b",
   "metadata": {},
   "source": [
    "Time Complexity: O(n*d) Where d=number of digits\n",
    "\n",
    "Space Complexity: O(n) "
   ]
  },
  {
   "cell_type": "code",
   "execution_count": 138,
   "id": "a7ca1ea0-986b-421d-9e31-63e6292b07e2",
   "metadata": {},
   "outputs": [
    {
     "name": "stdout",
     "output_type": "stream",
     "text": [
      "Before Sorting:  [63, 250, 835, 947, 651, 28]\n",
      "After Sorting:  [28, 63, 250, 651, 835, 947]\n"
     ]
    }
   ],
   "source": [
    "def digitCount(num):\n",
    "    count=0\n",
    "    while(num>0):\n",
    "        num=num//10\n",
    "        count=count+1\n",
    "    return count\n",
    "\n",
    "def radixSort(arr):\n",
    "    n=len(arr)\n",
    "    maxElement=max(arr)\n",
    "    digits=digitCount(maxElement)\n",
    "    l=[]\n",
    "    bins=[l]*10      # every element single digit will be of 0 to 9\n",
    "    for i in range(digits):\n",
    "        for j in range(0,n):\n",
    "            e=(arr[j]//pow(10,i))%10\n",
    "            if len(bins[e]) > 0:\n",
    "                bins[e].append(arr[j])\n",
    "            else:\n",
    "                bins[e]=[arr[j]]\n",
    "        k=0\n",
    "        for x in range(10):\n",
    "            if len(bins[x]) > 0:\n",
    "                for y in range(len(bins[x])):\n",
    "                    arr[k]=bins[x].pop(0)\n",
    "                    k=k+1\n",
    "    \n",
    "    \n",
    "if __name__==\"__main__\":\n",
    "    arr=[63,250,835,947,651,28]\n",
    "    print(\"Before Sorting: \",arr)\n",
    "    radixSort(arr)\n",
    "    print(\"After Sorting: \",arr)"
   ]
  },
  {
   "cell_type": "markdown",
   "id": "a3dcbfe0-9abd-4926-b8e8-2f4fdbd3c6a7",
   "metadata": {},
   "source": [
    "# Sort VS Sorted\n",
    "Sort() is a method defined for list which alter the original list.\n",
    "\n",
    "Sorted is a function which will not alter the original list, So this is a better approach for sorting."
   ]
  },
  {
   "cell_type": "code",
   "execution_count": 147,
   "id": "9c932c8e-3c32-4a1e-b524-98f33c2d5cdf",
   "metadata": {},
   "outputs": [
    {
     "name": "stdout",
     "output_type": "stream",
     "text": [
      "C-array after applying sorted function: [1, 4, 5, 8, 45, 34, 64, 50]\n",
      "B-array:  [64, 50, 45, 34, 8, 5, 4, 1]\n",
      "Reverse sorted C-array:  [64, 50, 45, 34, 8, 5, 4, 1]\n"
     ]
    }
   ],
   "source": [
    "C=[1,4,5,8,45,34,64,50]\n",
    "B=sorted(C,reverse=True)\n",
    "print(\"C-array after applying sorted function:\",C)\n",
    "print(\"B-array: \",B)\n",
    "C.sort(reverse=True)\n",
    "print(\"Reverse sorted C-array: \",C)"
   ]
  },
  {
   "cell_type": "markdown",
   "id": "d1fe0748-7572-46d5-86e3-e2030e311ff2",
   "metadata": {},
   "source": [
    "# Linked List"
   ]
  },
  {
   "cell_type": "markdown",
   "id": "5b52deea-8a32-4cd6-93e9-448c15ed8ed7",
   "metadata": {},
   "source": [
    "Storing the data with their address whose size can be expanded dynamically."
   ]
  },
  {
   "cell_type": "markdown",
   "id": "7841ad50-0727-4c45-97be-2ecb525d1611",
   "metadata": {},
   "source": [
    "# Inserting element in linked list at begining,ending and at specific position"
   ]
  },
  {
   "cell_type": "code",
   "execution_count": 205,
   "id": "ada855a4-368f-436f-b76f-b7e2dde7a5d3",
   "metadata": {},
   "outputs": [
    {
     "name": "stdout",
     "output_type": "stream",
     "text": [
      "Nodes added at last: \n",
      "12 23 45 40 \n",
      "12  found at position 1\n",
      "After adding node at beginning: \n",
      "20 100 12 23 45 40 \n",
      "Add at Given position in linked list: \n",
      "20 100 12 1999 23 45 40 \n"
     ]
    }
   ],
   "source": [
    "class Node: \n",
    "    def __init__(self,data):\n",
    "        self.data=data\n",
    "        self.next=None\n",
    "\n",
    "# Node creation completed  now implement some method for linked list.\n",
    "\n",
    "class LinkedList:\n",
    "    # After creation of object for LinkedList class three variable will be automatically initialized. head,tail,size\n",
    "    def __init__(self):\n",
    "        self.head=None\n",
    "    \n",
    "    #Adding element to last of linked list\n",
    "    def addAtLastNode(self,data):\n",
    "        newNode=Node(data)\n",
    "        if(self.head is None):\n",
    "            self.head=newNode\n",
    "            return\n",
    "        last=self.head\n",
    "        while(last.next):\n",
    "            last=last.next\n",
    "        last.next=newNode\n",
    "        \n",
    "    \n",
    "    #Adding element to start of linked list\n",
    "    def addAtBeginning(self,data):\n",
    "        newNode=Node(data)\n",
    "        if(self.head is None):\n",
    "            self.head=newNode\n",
    "            return\n",
    "        else:\n",
    "            newNode.next=self.head\n",
    "            self.head=newNode\n",
    "            \n",
    "    # Adding element at specific position in linked list   \n",
    "    def addingAtGivenPosition(self,data,position):\n",
    "        i=1;temp=self.head\n",
    "        while(i<position-1):\n",
    "            temp=temp.next\n",
    "            i=i+1\n",
    "        newNode=Node(data)\n",
    "        newNode.next=temp.next\n",
    "        temp.next=newNode\n",
    "        \n",
    "    #print the node data    \n",
    "    def display(self):\n",
    "        temp=self.head\n",
    "        while(temp):\n",
    "            print(temp.data,end=\" \")\n",
    "            temp=temp.next\n",
    "        print()\n",
    "    \n",
    "    #Searching the specific value in linked list\n",
    "    def searchData(self,item):\n",
    "        temp=self.head\n",
    "        nodePosition=1\n",
    "        while(temp!=None):\n",
    "            if(temp.data==item):\n",
    "                return nodePosition,item\n",
    "            temp=temp.next\n",
    "            nodePosition +=1\n",
    "        return -1,item\n",
    "    \n",
    "if __name__==\"__main__\":\n",
    "    L=LinkedList()\n",
    "    L.addAtLastNode(12)\n",
    "    L.addAtLastNode(23)\n",
    "    L.addAtLastNode(45)\n",
    "    L.addAtLastNode(40)\n",
    "    print(\"Nodes added at last: \")\n",
    "    L.display()\n",
    "    result=L.searchData(12)\n",
    "    if(result[0]==-1):\n",
    "        print(\"No similar data found\")\n",
    "    else:\n",
    "        print(result[1],\" found at position {}\".format(result[0]))\n",
    "    print(\"After adding node at beginning: \")\n",
    "    L.addAtBeginning(100)\n",
    "    L.addAtBeginning(20)\n",
    "    L.display()\n",
    "    print(\"Add at Given position in linked list: \")\n",
    "    L.addingAtGivenPosition(1999,4)\n",
    "    L.display()"
   ]
  },
  {
   "cell_type": "markdown",
   "id": "acc75e02-a793-4d21-a3ad-c93efae35298",
   "metadata": {},
   "source": [
    "# Deleting the element from begining ending and specific position."
   ]
  },
  {
   "cell_type": "code",
   "execution_count": 231,
   "id": "9e1c3640-dabf-45e2-a61d-3524d027a38c",
   "metadata": {},
   "outputs": [
    {
     "name": "stdout",
     "output_type": "stream",
     "text": [
      "Linked List element are: \n",
      "27 3 10 54 17 \n",
      "Deleted item is: 54\n",
      "27 3 10 17 "
     ]
    }
   ],
   "source": [
    "#For deleting element at first we need to create a linked list. So we will insert the element at end.\n",
    "\n",
    "# Step I == Creating Node for linked list\n",
    "class Node:\n",
    "    __slots__='data','next'\n",
    "    '''Slots in Python is a special mechanism that is used to reduce memory of the objects.\n",
    "       In Python, all the objects use a dynamic dictionary for adding an attribute.\n",
    "       Slots is a static type method in this no dynamic dictionary are required for allocating attribute.'''\n",
    "    def __init__(self,data):\n",
    "        self.data=data\n",
    "        self.next=None\n",
    "# Step II == Create some delete and insert method for linked list\n",
    "class LinkedList:\n",
    "    def __init__(self):\n",
    "        self.head=None\n",
    "    \n",
    "    #Inserting element at last of linked list\n",
    "    def addAtLastNode(self,data):\n",
    "        newNode=Node(data)\n",
    "        if(self.head is None):\n",
    "            self.head=newNode\n",
    "            return\n",
    "        last=self.head\n",
    "        while(last.next):\n",
    "            last=last.next\n",
    "        last.next=newNode\n",
    "    #Deleting element from linked lint \n",
    "    def deleteAtPosition(self,position):\n",
    "        if(self.head is None):\n",
    "            print(\"No element in Linked List: \")\n",
    "            return\n",
    "        \n",
    "        temp=self.head;i=1\n",
    "        if(position==1):\n",
    "            self.head=temp.next\n",
    "            return temp.data\n",
    "        \n",
    "        while(i<position-1):\n",
    "            temp=temp.next\n",
    "            i=i+1\n",
    "        delElement=temp.next.data   \n",
    "        temp.next=temp.next.next\n",
    "        return delElement\n",
    "        \n",
    "    def display(self):\n",
    "        temp=self.head\n",
    "        while(temp):\n",
    "            print(temp.data,end=\" \")\n",
    "            temp=temp.next\n",
    "        \n",
    "if __name__==\"__main__\":\n",
    "    L=LinkedList()\n",
    "    L.addAtLastNode(27)\n",
    "    L.addAtLastNode(3)\n",
    "    L.addAtLastNode(10)\n",
    "    L.addAtLastNode(54)\n",
    "    L.addAtLastNode(17)\n",
    "    print(\"Linked List element are: \")\n",
    "    L.display()\n",
    "    #calling deleting function\n",
    "    deletedItem=L.deleteAtPosition(4)\n",
    "    print(\"\\nDeleted item is:\",deletedItem)\n",
    "    L.display()"
   ]
  },
  {
   "cell_type": "markdown",
   "id": "71fbb59d-4e35-44ec-9bd9-748849a98223",
   "metadata": {},
   "source": [
    "# Circular Linked List"
   ]
  },
  {
   "cell_type": "markdown",
   "id": "02d12228-196c-4913-8284-d41bcccfc331",
   "metadata": {},
   "source": [
    "The linked list whose last node do not represents None although it connects from first node."
   ]
  },
  {
   "cell_type": "code",
   "execution_count": 110,
   "id": "8ee21f01-2e53-49a9-9cf0-2324a5cd0a88",
   "metadata": {},
   "outputs": [
    {
     "name": "stdout",
     "output_type": "stream",
     "text": [
      "Circular Linked List elements:  12 10 18 30 23 \n",
      "True\n",
      "Adding element at position:\n",
      "Circular Linked List elements:  12 10 34 18 30 23 \n",
      "True\n",
      "Deleted item is:  18\n",
      "Circular Linked List elements:  12 10 34 30 23 "
     ]
    }
   ],
   "source": [
    "class Node:\n",
    "    __slots__='data','next'\n",
    "    def __init__(self,data):\n",
    "        self.data=data\n",
    "        self.next=None\n",
    "class CircularLinkedList:\n",
    "    def __init__(self):\n",
    "        self.head=None\n",
    "        \n",
    "    #Adding element to last of the node everytime\n",
    "    def insertElement(self,data):\n",
    "        newNode=Node(data)\n",
    "        if(self.head is None):\n",
    "            self.head=newNode\n",
    "            newNode.next=self.head\n",
    "            return\n",
    "        \n",
    "        p=self.head\n",
    "        while(p.next!=self.head):\n",
    "            p=p.next\n",
    "        p.next=newNode\n",
    "        newNode.next=self.head\n",
    "    #adding element at specific position\n",
    "    def addAnywhere(self,data,position):\n",
    "        newNode=Node(data)\n",
    "        i=1;current=self.head\n",
    "        while(i<position-1):\n",
    "            current=current.next\n",
    "            i=i+1\n",
    "        newNode.next=current.next\n",
    "        current.next=newNode\n",
    "    \n",
    "    #Delete element at anywhere\n",
    "    def deleteAnywhere(self,position):\n",
    "        if(self.head is None):\n",
    "            print(\"No item available for deletion\")\n",
    "            return\n",
    "        j=1;current=self.head\n",
    "        while(j<position-1):\n",
    "            current=current.next\n",
    "            j=j+1\n",
    "        delElement=current.next.data\n",
    "        current.next=current.next.next\n",
    "        return delElement\n",
    "        \n",
    "    #Checking linked list circular or not\n",
    "    def isCircular(self):\n",
    "        temp=self.head\n",
    "        while(temp!=None):\n",
    "            temp=temp.next\n",
    "            if(temp==self.head):\n",
    "                return True\n",
    "        return False\n",
    "    \n",
    "    def display(self):\n",
    "        temp=self.head\n",
    "        print(\"Circular Linked List elements: \",temp.data,end=\" \");temp=temp.next\n",
    "        while(temp!=self.head):\n",
    "            print(temp.data,end=\" \")\n",
    "            temp=temp.next\n",
    "        \n",
    "if __name__==\"__main__\":\n",
    "    CL=CircularLinkedList()\n",
    "    #Calling insert method\n",
    "    CL.insertElement(12)\n",
    "    CL.insertElement(10)\n",
    "    CL.insertElement(18)\n",
    "    CL.insertElement(30)\n",
    "    CL.insertElement(23)\n",
    "    CL.display()\n",
    "    print()\n",
    "    print(CL.isCircular())\n",
    "    print(\"Adding element at position:\")\n",
    "    CL.addAnywhere(34,3)\n",
    "    CL.display()\n",
    "    print()\n",
    "    print(CL.isCircular())\n",
    "    x=CL.deleteAnywhere(4)\n",
    "    print(\"Deleted item is: \",x)\n",
    "    CL.display()"
   ]
  },
  {
   "cell_type": "code",
   "execution_count": 77,
   "id": "2d436d52-3239-4590-97d1-af8ba2b07b82",
   "metadata": {},
   "outputs": [
    {
     "data": {
      "image/png": "[encoded data removed]",
      "text/plain": [
       "<Figure size 432x288 with 1 Axes>"
      ]
     },
     "metadata": {
      "needs_background": "light"
     },
     "output_type": "display_data"
    }
   ],
   "source": [
    "import numpy as np\n",
    "from numpy import sin, cos\n",
    "from scipy.integrate import odeint\n",
    "from matplotlib import pyplot as plt\n",
    "# define the equations\n",
    "def equations(y0, t):\n",
    "    theta, x = y0\n",
    "    f = [x, -(g/l) *sin(theta)]\n",
    "    return f\n",
    "def plot_results(time, theta1):\n",
    "    plt.plot(time, theta1[:,0])\n",
    "\n",
    "\n",
    "plt.xlabel('time (in sec)')\n",
    "plt.ylabel('angle (in degree)')\n",
    "plt.grid(True)\n",
    "g=9.81\n",
    "l=1.0\n",
    "time=np.arange(0,10.0,0.025)\n",
    "initial_angle = 30\n",
    "theta0 = np.radians(initial_angle)\n",
    "np.radians(0.0)\n",
    "theta1 = odeint(equations, [theta0, x0], time)\n",
    "plot_results(time, theta1*180/np.pi)"
   ]
  },
  {
   "cell_type": "markdown",
   "id": "6eef0f11-67f4-4c69-be97-13c84bdcf1ec",
   "metadata": {},
   "source": [
    "# Doubly Linked List"
   ]
  },
  {
   "cell_type": "markdown",
   "id": "ccb460f8-bfca-4d99-b958-322119c5424c",
   "metadata": {},
   "source": [
    "A Doubly Linked List (DLL) contains an extra pointer, typically called previous pointer,\n",
    "together with next pointer and data which are there in singly linked list."
   ]
  },
  {
   "cell_type": "markdown",
   "id": "16dd35ad-1d2d-4ce1-aa29-be5bb64be1af",
   "metadata": {},
   "source": [
    "A DLL can be traversed in both forward and backward direction. "
   ]
  },
  {
   "cell_type": "markdown",
   "id": "d94e1b83-3901-4126-acf0-7a27f980667a",
   "metadata": {},
   "source": [
    "It can traversed in both direction unlike singly linked list. As it have prev pointer also."
   ]
  },
  {
   "cell_type": "code",
   "execution_count": 166,
   "id": "0d9aaf41-5283-406c-9fde-aced152dd1bd",
   "metadata": {},
   "outputs": [
    {
     "name": "stdout",
     "output_type": "stream",
     "text": [
      "DLL Element: 15 12 13 18 56 \n",
      "DLL in reverse: 56 18 13 12 15\n",
      "After adding 98 at begining of DLL: 98 15 12 13 18 56 \n",
      "100 is added at position 4:  98 15 12 100 13 18 56 \n",
      "98 deleted from beginning and DLL elements are: 15 12 100 13 18 56 \n",
      "100 is deleted from position 3, Available DLL element 15 12 13 18 56 "
     ]
    }
   ],
   "source": [
    "# Node Creation of doubly linked list\n",
    "class Node:\n",
    "    __slots__='data','next','prev'\n",
    "    def __init__(self,data):\n",
    "        self.data=data\n",
    "        self.next=None\n",
    "        self.prev=None\n",
    "\n",
    "# Define doubly linked List\n",
    "class DoublyLinkedList:\n",
    "    def __init__(self):\n",
    "        self.head=None\n",
    "    #Adding Element in the Doubly Linked List\n",
    "    def push(self,data):\n",
    "        newNode=Node(data)\n",
    "        if(self.head is None):\n",
    "            self.head=newNode\n",
    "            newNode.prev=self.head\n",
    "            newNode.next=None\n",
    "        else:\n",
    "            temp=self.head\n",
    "            while(temp.next):\n",
    "                temp=temp.next\n",
    "            temp.next=newNode\n",
    "            newNode.prev=temp\n",
    "            newNode.next=None\n",
    "    \n",
    "    #Adding Element to begining of DLL\n",
    "    def addAtBegining(self,data):\n",
    "        newNode=Node(data)\n",
    "        if(self.head is None):\n",
    "            self.head=newNode\n",
    "            newNode.prev=self.head\n",
    "            newNode.next=None\n",
    "        else:\n",
    "            newNode.next=self.head\n",
    "            self.head.prev=newNode\n",
    "            newNode.prev=self.head\n",
    "            self.head=newNode\n",
    "        return self.head.data\n",
    "    \n",
    "    #Adding Element at any position in DLL\n",
    "    def addAtAnyPosition(self,data,position):\n",
    "        newNode=Node(data)\n",
    "        if(position==1):\n",
    "            newNode.next=self.head\n",
    "            self.head.prev=newNode\n",
    "            newNode.prev=self.head\n",
    "            self.head=newNode\n",
    "        else:\n",
    "            i=1;current=self.head\n",
    "            while(i<position-1):\n",
    "                current=current.next\n",
    "                i=i+1\n",
    "            newNode.next=current.next\n",
    "            current.next.prev=newNode\n",
    "            current.next=newNode\n",
    "            newNode.prev=current\n",
    "        return data,position\n",
    "    \n",
    "    #Delete Element at begining of DLL\n",
    "    def delFromBegin(self):\n",
    "        if(self.head is None):\n",
    "            return None\n",
    "        element=self.head.data  #storing the deleted data\n",
    "        self.head=self.head.next\n",
    "        current=self.head.next\n",
    "        current.prev=self.head\n",
    "        return element\n",
    "    \n",
    "    #Delete the element from any position\n",
    "    def delFromAnywhere(self,position):\n",
    "        i=1\n",
    "        current=self.head\n",
    "        while(i<position-1):\n",
    "            current=current.next\n",
    "            i=i+1\n",
    "        element=current.next.data\n",
    "        if(current is not None):\n",
    "            current.next=current.next.next\n",
    "            current.next.prev=current\n",
    "        return element,position\n",
    "            \n",
    "            \n",
    "    #Forward Traverse        \n",
    "    def display(self):\n",
    "        current=self.head\n",
    "        while(current):\n",
    "            print(current.data,end=\" \")\n",
    "            current=current.next\n",
    "   \n",
    "    #Backward Traverse\n",
    "    def backwardTraverse(self):\n",
    "        current=self.head\n",
    "        while(current.next):\n",
    "            current=current.next\n",
    "        last=current\n",
    "        while(last!=self.head):\n",
    "            print(last.data,end=\" \")\n",
    "            last=last.prev\n",
    "        print(last.data)\n",
    "            \n",
    "if __name__==\"__main__\":\n",
    "    DLL=DoublyLinkedList()\n",
    "    #pushing element into Doubly Linked List\n",
    "    DLL.push(15)\n",
    "    DLL.push(12)\n",
    "    DLL.push(13)\n",
    "    DLL.push(18)\n",
    "    DLL.push(56)\n",
    "    print(\"DLL Element:\",end=\" \")\n",
    "    DLL.display()   # Same as Forward traverse of singly linked list\n",
    "    print(\"\\nDLL in reverse:\",end=\" \")\n",
    "    DLL.backwardTraverse()\n",
    "    addedEle=DLL.addAtBegining(98)\n",
    "    print(\"After adding {} at begining of DLL:\".format(addedEle),end=\" \")\n",
    "    DLL.display()\n",
    "    d,p=DLL.addAtAnyPosition(100,4)\n",
    "    print(\"\\n{} is added at position {}: \".format(d,p),end=\" \")\n",
    "    DLL.display()\n",
    "    deletedBeginEle=DLL.delFromBegin()\n",
    "    print(\"\\n{} deleted from beginning and DLL elements are:\".format(deletedBeginEle),end=\" \")\n",
    "    DLL.display()\n",
    "    delFromAny,pos=DLL.delFromAnywhere(3)\n",
    "    print(\"\\n{} is deleted from position {}, Available DLL element\".format(delFromAny,pos),end=\" \")\n",
    "    DLL.display()"
   ]
  },
  {
   "cell_type": "markdown",
   "id": "ad297da3-1573-45f9-8987-d1d3c09afa6d",
   "metadata": {},
   "source": [
    "# Stack"
   ]
  },
  {
   "cell_type": "markdown",
   "id": "7b22c288-6616-4f19-a0b2-57bbfb5d7301",
   "metadata": {},
   "source": [
    "Stack is a linear data structure which follows a particular order in which the operations are performed. The order may be LIFO(Last In First Out) or FILO(First In Last Out)."
   ]
  },
  {
   "cell_type": "markdown",
   "id": "3a21fa6e-ab8d-4e1a-a9fb-3ef30d725d51",
   "metadata": {},
   "source": [
    "Basic Operation with Stack\n",
    "\n",
    "empty() – Returns whether the stack is empty – Time Complexity: O(1)\n",
    "\n",
    "size() – Returns the size of the stack – Time Complexity: O(1)\n",
    "\n",
    "top() – Returns a reference to the topmost element of the stack – Time Complexity: O(1)\n",
    "\n",
    "push(a) – Inserts the element ‘a’ at the top of the stack – Time Complexity: O(1)\n",
    "\n",
    "pop() – Deletes the topmost element of the stack – Time Complexity: O(1)"
   ]
  },
  {
   "cell_type": "markdown",
   "id": "eb5821cc-6574-452f-b76f-b508ff158577",
   "metadata": {},
   "source": [
    "Q. In python which data structure is more suitable to implement stack?\n",
    "\n",
    "Ans--> List is sutaible because it's mutable. We can't use tuple as it is immutable, so we can't perform update the value inside tuple.\n",
    "\n",
    "Q. What is Overflow condition in Stack?\n",
    "\n",
    "Ans-- when stack is alrady full but it comes with array in C/C++/Java/. because we use List in Python for stack implementation and List size is dynamic."
   ]
  },
  {
   "cell_type": "markdown",
   "id": "9c8461c7-30f2-4175-a3d1-e88ec416669c",
   "metadata": {},
   "source": [
    "# Stack Implementation using List"
   ]
  },
  {
   "cell_type": "code",
   "execution_count": 65,
   "id": "de923210-5a2d-4182-b107-b3928407f245",
   "metadata": {},
   "outputs": [
    {
     "name": "stdout",
     "output_type": "stream",
     "text": [
      "No element inside stack\n",
      "No element in Stack\n",
      "0\n",
      "After Push operation:  [21, 34, 39, 67, 45]\n",
      "Performing pop operation:  [21, 34, 39, 67]\n",
      "Performing top operation:  67\n"
     ]
    }
   ],
   "source": [
    "class StackList:\n",
    "    \n",
    "    def __init__(self):\n",
    "        self.data=[]\n",
    "    \n",
    "    def __len__(self):\n",
    "        return len(self.data)\n",
    "    \n",
    "    def isEmpty(self):\n",
    "        return len(self.data)==0\n",
    "    \n",
    "    def push(self,element):\n",
    "        self.data.append(element)\n",
    "    \n",
    "    def pop(self):\n",
    "        if(self.isEmpty()):\n",
    "            print(\"No element inside stack\")\n",
    "            return\n",
    "        return self.data.pop()\n",
    "    \n",
    "    def top(self):\n",
    "        if(self.isEmpty()):\n",
    "            print(\"No element in Stack\")\n",
    "            return\n",
    "        return self.data[-1]\n",
    "    \n",
    "if __name__==\"__main__\":\n",
    "    stack=StackList()\n",
    "    stack.pop()\n",
    "    stack.top()\n",
    "    print(len(stack))\n",
    "    stack.isEmpty()\n",
    "    print(\"After Push operation: \",end=\" \")\n",
    "    stack.push(21)\n",
    "    stack.push(34)\n",
    "    stack.push(39)\n",
    "    stack.push(67)\n",
    "    stack.push(45)\n",
    "    print(stack.data)\n",
    "    print(\"Performing pop operation: \",end=\" \")\n",
    "    stack.pop()\n",
    "    print(stack.data)\n",
    "    print(\"Performing top operation: \",end=\" \")\n",
    "    print(stack.top())"
   ]
  },
  {
   "cell_type": "markdown",
   "id": "850471d2-f826-4c96-9516-9be094aff392",
   "metadata": {},
   "source": [
    "# Stack using Linked List"
   ]
  },
  {
   "cell_type": "markdown",
   "id": "65e1f43e-ebf9-47bb-ad3c-1c8cb4876c3d",
   "metadata": {},
   "source": [
    "Stack using singly linked list(SLL) is not so different. push() operation will add element at begining of SLL and pop() will delete element only from begining. top() will return always last element."
   ]
  },
  {
   "cell_type": "code",
   "execution_count": 211,
   "id": "393b434a-63fd-4c2e-830a-daf044733330",
   "metadata": {},
   "outputs": [
    {
     "name": "stdout",
     "output_type": "stream",
     "text": [
      "True\n",
      "Stack is Empty,Please push some data to perform pop\n",
      "Stack doesn't have Element at top\n",
      "length of stack:  5\n",
      "stack elements are:  35 34 23 10 12 \n",
      "Top element:  35\n",
      "Popped Element: 35\n",
      "See the changes after pop:  34 23 10 12 "
     ]
    }
   ],
   "source": [
    "class Node:\n",
    "    __slots__='data','next'\n",
    "    def __init__(self,data):\n",
    "        self.data=data\n",
    "        self.next=None\n",
    "class StackSLL:\n",
    "    def __init__(self):\n",
    "        #head will be replaced by top\n",
    "        self.top=None\n",
    "        self.size=0\n",
    "        \n",
    "    # __len__ will return current size of stack everytime\n",
    "    def __len__(self):\n",
    "        return self.size\n",
    "    \n",
    "    #checking stack is empty or not\n",
    "    def isEmpty(self):\n",
    "        return self.size==0\n",
    "    \n",
    "    #Always add element at begining of stack\n",
    "    def push(self,data):\n",
    "        newItem=Node(data)\n",
    "        if(self.top is None):\n",
    "            self.top=newItem\n",
    "            newItem.next=None\n",
    "            self.size +=1\n",
    "        else:\n",
    "            newItem.next=self.top\n",
    "            self.top=newItem\n",
    "            self.size +=1  # after pushing the element increasing the size\n",
    "            \n",
    "    #Delete the element from end of the linked list\n",
    "    def pop(self):\n",
    "        poppedElement=0\n",
    "        if(self.isEmpty()):\n",
    "            print(\"Stack is Empty,Please push some data to perform pop\")\n",
    "            return\n",
    "        poppedElement=self.top.data\n",
    "        self.top=self.top.next\n",
    "        self.size -=1\n",
    "        return poppedElement\n",
    "    \n",
    "    # returns begining element always\n",
    "    def Top(self):\n",
    "        if(self.isEmpty()):\n",
    "            print(\"Stack doesn't have Element at top\")\n",
    "            return \n",
    "        return self.top.data\n",
    "    \n",
    "    #dispaly the element inside stack\n",
    "    def display(self):\n",
    "        view=self.top\n",
    "        while(view):\n",
    "            print(view.data,end=\" \")\n",
    "            view=view.next\n",
    "            \n",
    "#Main function to organize the call of diff method            \n",
    "if __name__==\"__main__\":\n",
    "    stack=StackSLL()\n",
    "    #Checking initially stack is empty or not\n",
    "    print(stack.isEmpty())\n",
    "    stack.pop()\n",
    "    stack.Top()\n",
    "    #push some element into stack\n",
    "    stack.push(12)\n",
    "    stack.push(10)\n",
    "    stack.push(23)\n",
    "    stack.push(34)\n",
    "    stack.push(35)\n",
    "    print(\"length of stack: \",len(stack))\n",
    "    print(\"stack elements are: \",end=\" \")\n",
    "    stack.display()\n",
    "    #getting top element\n",
    "    print(\"\\nTop element: \", stack.Top())\n",
    "    print(\"Popped Element:\",stack.pop())\n",
    "    print(\"See the changes after pop: \",end=\" \")\n",
    "    stack.display()"
   ]
  },
  {
   "cell_type": "markdown",
   "id": "2dabd3c5-d2af-4d61-ac9b-8b01d306459a",
   "metadata": {},
   "source": [
    "# Queue"
   ]
  },
  {
   "cell_type": "markdown",
   "id": "d5f78651-df2a-4fc9-9124-4b931ba08c92",
   "metadata": {},
   "source": [
    " A linear data structure that follows a particular order in which the operations are performed for storing data. The order is First In First Out (FIFO). "
   ]
  },
  {
   "cell_type": "markdown",
   "id": "2f4b4e4f-229a-4880-804d-6a3a7faa3044",
   "metadata": {},
   "source": [
    "One can imagine a queue as a line of people waiting to receive something in sequential order which starts from the beginning of the line."
   ]
  },
  {
   "cell_type": "markdown",
   "id": "f4ad3bb8-c8d9-4124-9974-0c266aece4da",
   "metadata": {},
   "source": [
    " It is an ordered list in which insertions are done at one end which is known as the rear and deletions are done from the other end known as the front."
   ]
  },
  {
   "cell_type": "markdown",
   "id": "4c6c5cad-dbef-4241-b67c-773e8dc7be1f",
   "metadata": {},
   "source": [
    "# Basic Operation in Queue"
   ]
  },
  {
   "cell_type": "markdown",
   "id": "eed20ce9-f270-48b0-a43a-bf40e0dc497b",
   "metadata": {},
   "source": [
    "enqueue(int data): Inserts an element at the end of the queue i.e. at the rear end.\n",
    "\n",
    "dequeue(): This operation removes and returns an element that is at the front end of the queue.\n",
    "\n",
    "Auxiliary Operations on Queue:\n",
    "\n",
    "front(): This operation returns the element at the front end without removing it.\n",
    "\n",
    "rear(): This operation returns the element at the rear end without removing it.\n",
    "\n",
    "isEmpty(): This operation indicates whether the queue is empty or not.\n",
    "\n",
    "size(): This operation returns the size of the queue i.e. the total number of elements it contains.  "
   ]
  },
  {
   "cell_type": "markdown",
   "id": "f1075975-9343-4d1b-97e5-85c124ece2ce",
   "metadata": {},
   "source": [
    "Priority Queue: This queue is a special type of queue. Its specialty is that it arranges the elements in a queue based on some priority."
   ]
  },
  {
   "cell_type": "markdown",
   "id": "ef1f6ddc-8b20-45d8-8e93-b4b04da53f3f",
   "metadata": {},
   "source": [
    "Real World Application: When a resource is shared among multiple consumers. Examples include CPU scheduling, Disk Scheduling."
   ]
  },
  {
   "cell_type": "markdown",
   "id": "46d8e353-e99e-4358-81f0-eb6f84c5c24f",
   "metadata": {},
   "source": [
    "# Queue using List"
   ]
  },
  {
   "cell_type": "code",
   "execution_count": 90,
   "id": "b266fb10-6019-40ce-ae65-79e6f578dac1",
   "metadata": {},
   "outputs": [
    {
     "name": "stdout",
     "output_type": "stream",
     "text": [
      "Queue is empty, No front item available!!\n",
      "None\n",
      "Queue is empty,No rear item available!!\n",
      "None\n",
      "True\n",
      "[]\n",
      "Queue element:  [23, 45, 56]\n",
      "Dequed element: 23\n",
      "after EnQueue operation:  [45, 56, 80, 100]\n",
      "Front element:  45\n",
      "Rear element:  100\n"
     ]
    }
   ],
   "source": [
    "class QueueList:\n",
    "    def __init__(self):\n",
    "        self.queue=[]\n",
    "    def __len__(self):\n",
    "        return len(self.queue)\n",
    "    def isEmpty(self):\n",
    "        return len(self.queue)==0\n",
    "    def enQueue(self,data):\n",
    "        self.queue.append(data)\n",
    "    def deQueue(self):\n",
    "        if(self.isEmpty()):\n",
    "            print(\"Queue is Empty!!\")\n",
    "            return\n",
    "        return self.queue.pop(0)\n",
    "    def front(self):\n",
    "        if(self.isEmpty()):\n",
    "            print(\"Queue is empty, No front item available!!\")\n",
    "            return\n",
    "        return self.queue[0]\n",
    "    def rear(self):\n",
    "        if(self.isEmpty()):\n",
    "            print(\"Queue is empty,No rear item available!!\")\n",
    "            return\n",
    "        return self.queue[len(self.queue)-1]\n",
    "    \n",
    "if __name__==\"__main__\":\n",
    "    Q=QueueList()\n",
    "    print(Q.front())\n",
    "    print(Q.rear())\n",
    "    print(Q.isEmpty())\n",
    "    print(Q.queue)\n",
    "    Q.enQueue(23)\n",
    "    Q.enQueue(45)\n",
    "    Q.enQueue(56)\n",
    "    print(\"Queue element: \",Q.queue)\n",
    "    print(\"Dequed element:\",Q.deQueue())\n",
    "    Q.enQueue(80)\n",
    "    Q.enQueue(100)\n",
    "    print(\"after EnQueue operation: \",Q.queue)\n",
    "    print(\"Front element: \",Q.front())\n",
    "    print(\"Rear element: \",Q.rear())"
   ]
  },
  {
   "cell_type": "markdown",
   "id": "76976c20-4b52-4ab2-ae36-717683866c1c",
   "metadata": {},
   "source": [
    "# Queue using singly Linked List"
   ]
  },
  {
   "cell_type": "markdown",
   "id": "ec88c920-3ee3-4045-96ee-202be686b1e7",
   "metadata": {},
   "source": [
    "A generalized view of Queue Data Structure which allows insertion and deletion at both ends."
   ]
  },
  {
   "cell_type": "markdown",
   "id": "0e6954ee-612f-4a75-a90a-88d95e1d1033",
   "metadata": {},
   "source": [
    "# Operations on Deque:"
   ]
  },
  {
   "cell_type": "markdown",
   "id": "f5dfe304-bbfa-4d22-9519-f5e62357bd75",
   "metadata": {},
   "source": [
    "insertFront(): Adds an item at the front of Deque."
   ]
  },
  {
   "cell_type": "markdown",
   "id": "7a5aa4d6-fe10-4167-b56f-f29485f7731e",
   "metadata": {},
   "source": [
    "insertLast(): Adds an item at the rear of Deque."
   ]
  },
  {
   "cell_type": "markdown",
   "id": "ee2bde7e-fc2c-4a8c-bd60-b0dec74ba9f0",
   "metadata": {},
   "source": [
    "deleteFront(): Deletes an item from the front of Deque.\n",
    "\n",
    "deleteLast(): Deletes an item from the rear of Deque. In addition to the above operations, the following operations are also supported.\n",
    "\n",
    "getFront(): Gets the front item from the queue.\n",
    "\n",
    "getRear(): Gets the last item from queue.\n",
    "\n",
    "isEmpty(): Checks whether Deque is empty or not.\n",
    "\n",
    "isFull(): Checks whether Deque is full or not."
   ]
  },
  {
   "cell_type": "markdown",
   "id": "00eea7d3-497b-4819-9d9e-78cb4d754338",
   "metadata": {},
   "source": [
    "# Applicaton of Deque"
   ]
  },
  {
   "cell_type": "markdown",
   "id": "1592752f-7a9d-4f2d-9238-e3be560931fe",
   "metadata": {},
   "source": [
    "Storing a web browser’s history.\n",
    "\n",
    "Storing a software application’s list of undo operations.\n",
    "\n",
    "Job scheduling algorithm."
   ]
  },
  {
   "cell_type": "code",
   "execution_count": 93,
   "id": "fa884cf4-93eb-472f-8977-ee2a8c373141",
   "metadata": {},
   "outputs": [
    {
     "name": "stdout",
     "output_type": "stream",
     "text": [
      "[100, 12, 21]\n"
     ]
    }
   ],
   "source": [
    "class Deque:\n",
    "    def __init__(self):\n",
    "        self.deque=[]\n",
    "    def __len__(self):\n",
    "        return len(self.deque)\n",
    "    def isEmpty(self):\n",
    "        return len(self.deque)==0\n",
    "    def insertFront(self,data):\n",
    "        self.deque.insert(0,data)\n",
    "    \n",
    "if __name__==\"__main__\":\n",
    "    d=Deque()\n",
    "    d.insertFront(21)\n",
    "    d.insertFront(12)\n",
    "    d.insertFront(100)\n",
    "    print(d.deque)"
   ]
  },
  {
   "cell_type": "code",
   "execution_count": 1,
   "id": "3ab02d79-b68a-4ea5-b89c-2b4eb46bc402",
   "metadata": {},
   "outputs": [],
   "source": [
    "#"
   ]
  },
  {
   "cell_type": "code",
   "execution_count": 2,
   "id": "3bb4c4ed-e98c-4ee5-9ca5-3c08892ed503",
   "metadata": {},
   "outputs": [],
   "source": [
    "#"
   ]
  },
  {
   "cell_type": "code",
   "execution_count": 3,
   "id": "898c8b07-6dd1-48d5-adc7-54ff32b27bb4",
   "metadata": {},
   "outputs": [],
   "source": [
    "#"
   ]
  },
  {
   "cell_type": "code",
   "execution_count": 4,
   "id": "36ae16ff-93ac-49fd-9b38-ff0cb33237f3",
   "metadata": {},
   "outputs": [],
   "source": [
    "#"
   ]
  },
  {
   "cell_type": "code",
   "execution_count": 5,
   "id": "5df7f818-ad0e-456d-a83f-fe6d83fe9ec2",
   "metadata": {},
   "outputs": [],
   "source": [
    "#"
   ]
  },
  {
   "cell_type": "code",
   "execution_count": null,
   "id": "06e06ae8-4d69-415e-8135-df79dd5eeed9",
   "metadata": {},
   "outputs": [],
   "source": []
  }
 ],
 "metadata": {
  "kernelspec": {
   "display_name": "Python 3 (ipykernel)",
   "language": "python",
   "name": "python3"
  },
  "language_info": {
   "codemirror_mode": {
    "name": "ipython",
    "version": 3
   },
   "file_extension": ".py",
   "mimetype": "text/x-python",
   "name": "python",
   "nbconvert_exporter": "python",
   "pygments_lexer": "ipython3",
   "version": "3.9.2"
  },
  "vscode": {
   "interpreter": {
    "hash": "e8f84865b0fa00750fa5e91213c63306d6568a5a2a3fe4f0256f3576515e3244"
   }
  }
 },
 "nbformat": 4,
 "nbformat_minor": 5
}
