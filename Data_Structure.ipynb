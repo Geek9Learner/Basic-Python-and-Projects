{
 "cells": [
  {
   "cell_type": "markdown",
   "id": "5273241c-7155-4a1b-9101-4b61fca7e67b",
   "metadata": {},
   "source": [
    "# Recursion"
   ]
  },
  {
   "cell_type": "markdown",
   "id": "0cb04d24-7c4f-478e-8e59-e0babb28f8b2",
   "metadata": {},
   "source": [
    "Function calling itself.\n",
    "\n",
    "Goal: Always try to find the base condition.\n",
    "1. Head Recursion\n",
    "2. Tail Recursion\n",
    "3. Tree Recursion"
   ]
  },
  {
   "cell_type": "markdown",
   "id": "c96217f2-c5b8-44f6-9d9f-ab6e19ad26b7",
   "metadata": {},
   "source": [
    "1. Tail Recursion: Function calling will be the last thing inside base case."
   ]
  },
  {
   "cell_type": "code",
   "execution_count": 4,
   "id": "91c55021-0131-485e-bfe5-816e79f9cdab",
   "metadata": {},
   "outputs": [
    {
     "name": "stdout",
     "output_type": "stream",
     "text": [
      "Enter the number:  4\n",
      "Square of 4 is : 16\n",
      "Square of 3 is : 9\n",
      "Square of 2 is : 4\n",
      "Square of 1 is : 1\n"
     ]
    }
   ],
   "source": [
    "'''Tail Recursion Example for square of numbers.\n",
    "    function will be called at last.\n",
    "'''\n",
    "\n",
    "def find_tail_rec_square(num):\n",
    "    if(num>0):\n",
    "        k=num**2\n",
    "        print(\"Square of {} is : {}\".format(num,k))\n",
    "        find_square(num-1)    # function calling itself at last\n",
    "    \n",
    "if __name__==\"__main__\":\n",
    "    n=input(\"Enter the number: \")\n",
    "    \"\"\"Handling exception for non Integers.\n",
    "        Using try and except block\"\"\"\n",
    "    try:\n",
    "        num=int(n)\n",
    "        find_tail_rec_square(num)\n",
    "    except:\n",
    "        print(\"Please try to enter integer!!\")"
   ]
  },
  {
   "cell_type": "markdown",
   "id": "f6cecfae-5432-4dfa-bf31-87340724f2d9",
   "metadata": {},
   "source": [
    "2. Head Recursion: Function calling will be the first thing inside base case."
   ]
  },
  {
   "cell_type": "code",
   "execution_count": 5,
   "id": "b5bd9388-b909-4677-afb9-704d66503a8c",
   "metadata": {},
   "outputs": [
    {
     "name": "stdout",
     "output_type": "stream",
     "text": [
      "Enter the number:  4\n",
      "Square of 1 is 1: \n",
      "Square of 2 is 4: \n",
      "Square of 3 is 9: \n",
      "Square of 4 is 16: \n"
     ]
    }
   ],
   "source": [
    "'''Below example of find square of num by head recursion'''\n",
    "def find_head_rec_square(num):\n",
    "    if(num>0):\n",
    "        find_head_rec_square(num-1) \n",
    "        \"\"\"\n",
    "            Recursion tree: f(4)-->f(3)-->f(2)-->f(1)\n",
    "            after calling f(1) it goes to exceute for k=num**2 then\n",
    "                                  16<--9<--4<--1<--1\n",
    "        \"\"\"\n",
    "        k=num**2\n",
    "        print(\"Square of {} is {}: \".format(num,k))\n",
    "        \n",
    "if __name__==\"__main__\":\n",
    "    n=input(\"Enter the number: \")\n",
    "    try:\n",
    "        num=int(n)\n",
    "        find_head_rec_square(num)\n",
    "    except:\n",
    "        print(\"Please enter the Integer input!!\")"
   ]
  },
  {
   "cell_type": "markdown",
   "id": "5bfe555f-808f-479d-83c8-ce1fdf5d14f1",
   "metadata": {},
   "source": [
    "3. Tree Recursion: Function calling itself make a structure like tree. also function calls itself more than 1 times."
   ]
  },
  {
   "cell_type": "code",
   "execution_count": 7,
   "id": "6ef02e66-411f-46eb-82b6-87f6a6d0e64e",
   "metadata": {},
   "outputs": [
    {
     "name": "stdout",
     "output_type": "stream",
     "text": [
      "Enter the number:  3\n",
      "Square of 1 is: 1 \n",
      "Square of 2 is: 4 \n",
      "Square of 1 is: 1 \n",
      "Square of 3 is: 9 \n",
      "Square of 1 is: 1 \n",
      "Square of 2 is: 4 \n",
      "Square of 1 is: 1 \n"
     ]
    }
   ],
   "source": [
    "'''Below python example for finding square with tail recursion'''\n",
    "def find_tail_rec_square(num):\n",
    "    if(num>0):\n",
    "        find_tail_rec_square(num-1)\n",
    "        k=num**2\n",
    "        print(\"Square of {} is: {} \".format(num,k))\n",
    "        find_tail_rec_square(num-1)\n",
    "    \n",
    "if __name__==\"__main__\":\n",
    "    n=input(\"Enter the number: \")\n",
    "    try:\n",
    "        num=int(n)\n",
    "        find_tail_rec_square(num)\n",
    "    except:\n",
    "        print(\"Please enter the Integer!!\")"
   ]
  },
  {
   "cell_type": "markdown",
   "id": "81585b06-9a1f-4013-aa6e-31da4fa1c13c",
   "metadata": {},
   "source": [
    "Recursion Tree of above Function call Find below."
   ]
  },
  {
   "cell_type": "code",
   "execution_count": 14,
   "id": "4c8e22c6-ffe4-4221-84d1-a1b3ef0fc953",
   "metadata": {},
   "outputs": [
    {
     "data": {
      "image/png": "[encoded data removed]",
      "text/plain": [
       "<PIL.PngImagePlugin.PngImageFile image mode=RGB size=1152x648 at 0x2424B9C6D90>"
      ]
     },
     "execution_count": 14,
     "metadata": {},
     "output_type": "execute_result"
    }
   ],
   "source": [
    "from PIL import Image\n",
    "tree_recursion=Image.open('Recursion_png.png')\n",
    "tree_recursion"
   ]
  },
  {
   "cell_type": "markdown",
   "id": "27e6bf48-ac29-41f4-bf3e-cdca59302a46",
   "metadata": {},
   "source": [
    "NOTE: Tail Recursion is the faster and efficient than others because function does not need to face function overhead."
   ]
  },
  {
   "cell_type": "markdown",
   "id": "254ba4c1-36d7-44c5-93f8-defbd7182cf7",
   "metadata": {},
   "source": [
    "# Searching Algorithms"
   ]
  },
  {
   "cell_type": "markdown",
   "id": "8eba9b6c-8fad-4bf0-9d8f-46ab2fbe2a13",
   "metadata": {},
   "source": [
    "1. Linear Search\n",
    "\n",
    "    Time Complexity = O(n)\n",
    "    \n",
    "    Space Complexity = O(1)"
   ]
  },
  {
   "cell_type": "code",
   "execution_count": 26,
   "id": "12daddb3-102e-44e3-83ef-8d65d237fc31",
   "metadata": {},
   "outputs": [
    {
     "name": "stdout",
     "output_type": "stream",
     "text": [
      "Enter the element for searching: 1000\n",
      "1000 is not inside mylist!!\n"
     ]
    }
   ],
   "source": [
    "def linearSearch(mylist,element):\n",
    "    for i in range(0,len(mylist)):\n",
    "        if(mylist[i]==element):\n",
    "            return i+1\n",
    "    return -1\n",
    "\n",
    "if __name__==\"__main__\":\n",
    "    mylist=[1,58,41,21,14,45,59,61,100]\n",
    "    ele=input(\"Enter the element for searching:\")\n",
    "    try:\n",
    "        element=int(ele)\n",
    "        index=linearSearch(mylist,element)\n",
    "        if(index>=0):\n",
    "            print(\"{} found at index {}\".format(element,index))\n",
    "        else:\n",
    "            print(\"{} is not inside mylist!!\".format(element))\n",
    "    except:\n",
    "        print(\"Please enter Integer value!!\")\n",
    "            "
   ]
  },
  {
   "cell_type": "markdown",
   "id": "cbcbce41-1491-4aea-9d89-06dbd4902b0d",
   "metadata": {},
   "source": [
    "Binary Search\n",
    "\n",
    "Only apply on sorted list or array. Use Divide and Conquer technique.\n",
    "\n",
    "Time Complexity = O(log n)\n",
    "\n",
    "Space Complexity = O(1)"
   ]
  },
  {
   "cell_type": "code",
   "execution_count": 6,
   "id": "6b465bbf-a9dd-4fd9-8103-18d0edb349b8",
   "metadata": {},
   "outputs": [
    {
     "name": "stdout",
     "output_type": "stream",
     "text": [
      "Enter the number for search:  95\n",
      "95 found at index 6\n"
     ]
    }
   ],
   "source": [
    "# binary search with Iterative Control Structure\n",
    "def binarySearch(numlist,element):\n",
    "    low=0;high=len(numlist)-1  # indexes that will be used for comparision\n",
    "    while(low<=high):\n",
    "        mid=(low+high)//2\n",
    "        if(numlist[mid]==element):\n",
    "            return mid\n",
    "        elif(numlist[mid]>element):\n",
    "            high=mid-1\n",
    "        else:\n",
    "            low=mid+1\n",
    "    return -1\n",
    "    \n",
    "if __name__==\"__main__\":\n",
    "    numList=[12,23,45,67,78,85,95,98,100,120]  # sorted list so we can apply binary search algo\n",
    "    num=input(\"Enter the number for search: \")\n",
    "    try:\n",
    "        element=int(num)\n",
    "        index=binarySearch(numList,element)\n",
    "        if(index>=0):\n",
    "            print(\"{} found at index {}\".format(element,index))\n",
    "        else:\n",
    "            print('Not Found!!')\n",
    "    except:\n",
    "        print('Please enter an integer for search!!')"
   ]
  },
  {
   "cell_type": "code",
   "execution_count": 1,
   "id": "da0d0d51-1256-42ff-840c-47afd686abe0",
   "metadata": {},
   "outputs": [
    {
     "data": {
      "text/plain": [
       "8"
      ]
     },
     "execution_count": 1,
     "metadata": {},
     "output_type": "execute_result"
    }
   ],
   "source": [
    "# Binary Search using Resursion\n",
    "numlist=[12,23,45,67,78,85,95,98,100,120]\n",
    "def binarySearch(numlist,element,low,high):\n",
    "    mid=(low+high)//2\n",
    "    if(numlist[mid]==element):\n",
    "        return mid\n",
    "    elif(numlist[mid]>element):\n",
    "        return binarySearch(numlist,element,low,mid-1)\n",
    "    else:\n",
    "        return binarySearch(numlist,element,mid+1,high)\n",
    "    if(low>high):\n",
    "        return -1\n",
    "    return 0\n",
    "\n",
    "# Function Calling\n",
    "binarySearch(numlist,100,0,9)"
   ]
  },
  {
   "cell_type": "markdown",
   "id": "085679f0-2934-44fb-baef-ac34efefc8a6",
   "metadata": {},
   "source": [
    "# Sorting"
   ]
  },
  {
   "cell_type": "markdown",
   "id": "6026fdff-0082-41dd-9c96-64dbee0101b5",
   "metadata": {},
   "source": [
    "A technique to arrange numbers in ascending or descending order."
   ]
  },
  {
   "cell_type": "markdown",
   "id": "faaeb0c2-6c12-4b6a-88f7-b2b8fcf36c21",
   "metadata": {},
   "source": [
    "Types Of Sorting\n",
    "\n",
    "1.Selection Sort\n",
    "\n",
    "2.Insertion Sort\n",
    "\n",
    "3.Bubble Sort\n",
    "\n",
    "4.Merge Sort\n",
    "\n",
    "5.Quick Sort\n",
    "\n",
    "6.Shell Sort\n",
    "\n",
    "7.Heap Sort\n",
    "\n",
    "8.Counting Sort\n",
    "\n",
    "9.Bucket Sort\n",
    "\n",
    "10.Radix Sort\n",
    "\n",
    "Note: First 7 sorting techique based on comparision of element. and Last 3 is based on Index."
   ]
  },
  {
   "cell_type": "markdown",
   "id": "e3f2ded8-2011-432a-a80c-27fe1eb2ffc0",
   "metadata": {},
   "source": [
    "# Selection Sort\n",
    "\n",
    "Idea: To find the minimum value corresponding to every index by comparing and swap both element."
   ]
  },
  {
   "cell_type": "markdown",
   "id": "581fee28-8a21-428a-aa08-074c03b83772",
   "metadata": {},
   "source": [
    "Time Complexity: O(n^{2})\n",
    "\n",
    "Space Complexity: O(1)"
   ]
  },
  {
   "cell_type": "code",
   "execution_count": 36,
   "id": "8f57582d-42a1-4de7-9985-8fa87c07cdc0",
   "metadata": {},
   "outputs": [
    {
     "name": "stdout",
     "output_type": "stream",
     "text": [
      "Before Sorting elements are:  [1, 29, 5, 4, 89, 0, 5, 25, 12]\n",
      "After Sorting elements are:  [0, 1, 4, 5, 5, 12, 25, 29, 89]\n"
     ]
    }
   ],
   "source": [
    "def selectionSort(A):\n",
    "    l=len(A)\n",
    "    for i in range(0,l):\n",
    "        position=i\n",
    "        for j in range(i+1,l):\n",
    "            if(A[position]>A[j]):\n",
    "                position=j\n",
    "        #Swapping two element using assignment operator\n",
    "        A[position],A[i]=A[i],A[position]\n",
    "if __name__==\"__main__\":\n",
    "    A=[1,29,5,4,89,0,5,25,12]\n",
    "    print('Before Sorting elements are: ',A)\n",
    "    selectionSort(A)\n",
    "    print('After Sorting elements are: ',A)"
   ]
  },
  {
   "cell_type": "markdown",
   "id": "24e50823-45b2-4bb8-b333-858b8048fc82",
   "metadata": {},
   "source": [
    "# Insertion Sort\n",
    "\n",
    "Idea:Compare two value if it is sorted then move forward else swap those two element.So basically we will compare until it gets their order"
   ]
  },
  {
   "cell_type": "markdown",
   "id": "594fd4ab-80e6-48da-9822-00720c19962d",
   "metadata": {},
   "source": [
    "Time Complexity:O({n}^2)\n",
    "    \n",
    "Space Complexity:O(1)"
   ]
  },
  {
   "cell_type": "code",
   "execution_count": 42,
   "id": "e299bd61-d44c-4489-a60d-b03c8b0ca199",
   "metadata": {},
   "outputs": [
    {
     "name": "stdout",
     "output_type": "stream",
     "text": [
      "Before Sorting:  [25, 14, 54, 78, 1, 24, 56, 13, 18, 17]\n",
      "After sorting:  [1, 13, 14, 17, 18, 24, 25, 54, 56, 78]\n"
     ]
    }
   ],
   "source": [
    "def insertionSort(B):\n",
    "    l=len(B)\n",
    "    for i in range(0,l):\n",
    "        for j in range(i+1,l):\n",
    "            if(B[i]<=B[j]):\n",
    "                continue\n",
    "            else:\n",
    "                B[i],B[j]=B[j],B[i]\n",
    "                #print(B)\n",
    "        #print('Cycle: ',i)   # for understanding each swap operation then uncomment both lines.\n",
    "                \n",
    "if __name__==\"__main__\":\n",
    "    B=[25,14,54,78,1,24,56,13,18,17]\n",
    "    print('Before Sorting: ',B)\n",
    "    insertionSort(B)\n",
    "    print('After sorting: ',B)"
   ]
  },
  {
   "cell_type": "markdown",
   "id": "a49aea9e-850c-41f4-ad1c-9fea3ea5a0e8",
   "metadata": {},
   "source": [
    "# Bubble Sort\n",
    "\n",
    "Idea:\n",
    "    "
   ]
  },
  {
   "cell_type": "markdown",
   "id": "614e433f-0e97-4e1d-95ef-b2a35fba1abc",
   "metadata": {},
   "source": [
    "Time Complexity:O({n}^2)\n",
    "    \n",
    "Space Complexity:O(1)\n"
   ]
  },
  {
   "cell_type": "code",
   "execution_count": 50,
   "id": "093e8445-b431-48c7-b28f-e95324e51e86",
   "metadata": {},
   "outputs": [
    {
     "name": "stdout",
     "output_type": "stream",
     "text": [
      "Before Sorting:  [3, -5, 60, 18, 9, 2]\n",
      "After Sorting:  [-5, 2, 3, 9, 18, 60]\n"
     ]
    }
   ],
   "source": [
    "def bubbleSort(A):\n",
    "    l=len(A)\n",
    "    for i in range(0,l):\n",
    "        for j in range(0,l-1):\n",
    "            if(A[j]<=A[j+1]):\n",
    "                continue\n",
    "            else:\n",
    "                A[j+1],A[j]=A[j],A[j+1]\n",
    "                #print(A)\n",
    "        #print('cycle: ',i)\n",
    "                \n",
    "if __name__==\"__main__\":\n",
    "    A=[3,-5,60,18,9,2]\n",
    "    print(\"Before Sorting: \",A)\n",
    "    bubbleSort(A)\n",
    "    print(\"After Sorting: \",A)"
   ]
  },
  {
   "cell_type": "markdown",
   "id": "18efd9a8-8014-4ecb-a426-6803e684154c",
   "metadata": {},
   "source": [
    "# Shell Sort\n",
    "\n",
    "Idea:Optimized version of Insertion sort. But we compare element with gap in both side left(current-gap) and right(current+gap). Swap the right value if left value is already sorted."
   ]
  },
  {
   "cell_type": "markdown",
   "id": "9a92ece5-07a4-48b4-a6af-9fbfba766bcd",
   "metadata": {},
   "source": [
    "Time Complexity: n(log(n))\n",
    "\n",
    "Space Complexity: O(1)\n"
   ]
  },
  {
   "cell_type": "code",
   "execution_count": 79,
   "id": "b7fc1245-dfb3-4123-8546-cf9219a5569b",
   "metadata": {},
   "outputs": [
    {
     "name": "stdout",
     "output_type": "stream",
     "text": [
      "Before Sorting:  [15, 8, 2, 45, 21, 16, 13, 120, 54]\n",
      "After Sorting:  [2, 8, 13, 15, 16, 21, 45, 54, 120]\n",
      "Congrats you did something different!!!\n"
     ]
    }
   ],
   "source": [
    "def shellSort(A):\n",
    "    gap=len(A)//2;l=len(A)\n",
    "    while(gap>0):\n",
    "        i=0\n",
    "        while(i<l and i+gap<l):\n",
    "            if(A[i]>A[i+gap]):\n",
    "                A[i],A[i+gap]=A[i+gap],A[i]\n",
    "                if(i-gap>=0 and A[i-gap]>A[i]):\n",
    "                   A[i],A[i-gap]=A[i-gap],A[i]\n",
    "            i=i+1\n",
    "        gap=gap//2\n",
    "\n",
    "if __name__==\"__main__\":\n",
    "    A=[15,8,2,45,21,16,13,120,54]\n",
    "    print('Before Sorting: ',A)\n",
    "    shellSort(A)\n",
    "    print(\"After Sorting: \",A)\n",
    "    print(\"Congrats you did something different!!!\")"
   ]
  },
  {
   "cell_type": "markdown",
   "id": "35d0aad2-3e01-4e06-8f30-f36bce102617",
   "metadata": {},
   "source": [
    "# Merge Sort\n",
    "Idea: divide the array/List into two halves until it becomes the size of 1. And individual element is self sorted. then we will merge each sorted array/list by comparing element."
   ]
  },
  {
   "cell_type": "markdown",
   "id": "db996c5c-f71c-473a-8b40-af803fb419f5",
   "metadata": {},
   "source": [
    "Time Complexity:O(nlog{n})\n",
    "\n",
    "Space Complexity: O(n) : for storing data for temp array"
   ]
  },
  {
   "cell_type": "code",
   "execution_count": 101,
   "id": "9f049a16-e86c-469c-816f-dc8caaf48138",
   "metadata": {},
   "outputs": [
    {
     "name": "stdout",
     "output_type": "stream",
     "text": [
      "[11, 15, 23, 34, 45, 55, 67, 78, 98]\n"
     ]
    }
   ],
   "source": [
    "def mergeSort(arr):\n",
    "    if(len(arr)>1):\n",
    "        mid=len(arr)//2\n",
    "# Dividing array into two halves from mid point L=Left_array R=Right_array\n",
    "        L=arr[:mid]\n",
    "        R=arr[mid:]\n",
    "        mergeSort(L)\n",
    "        mergeSort(R)\n",
    "#Copying sorted array data into original array         \n",
    "        i=0;j=0;k=0\n",
    "        while(i<len(L) and j<len(R)):\n",
    "            if(L[i]<R[j]):\n",
    "                arr[k]=L[i]\n",
    "                i=i+1\n",
    "            else:\n",
    "                arr[k]=R[j]\n",
    "                j=j+1\n",
    "            k=k+1\n",
    "# Copying the remaining element inside temp array.. if it is remaining.       \n",
    "        while(i<len(L)):\n",
    "            arr[k]=L[i]\n",
    "            k=k+1;i=i+1\n",
    "        while(j<len(R)):\n",
    "            arr[k]=R[j]\n",
    "            k=k+1;j=j+1\n",
    "        \n",
    "        \n",
    "if __name__==\"__main__\":\n",
    "    arr=[67,98,23,15,11,78,55,34,45]\n",
    "    mergeSort(arr)\n",
    "    print(arr)\n",
    "    "
   ]
  },
  {
   "cell_type": "markdown",
   "id": "489c089e-faeb-4e3e-9647-5693c3041f99",
   "metadata": {},
   "source": [
    "# Quick Sort\n",
    "Idea: Divide and Conquer Approach. all left element across pivot should be smaller and right side element should be always greater."
   ]
  },
  {
   "cell_type": "markdown",
   "id": "1f253d1a-a10f-417b-a201-3815f31ba3ae",
   "metadata": {},
   "source": [
    "Time Complexity: Worst case O(n{^2}): When array is already sorted. Best case O(nlog{n}) for general array.\n",
    "\n",
    "Space Complexity:O(1)"
   ]
  },
  {
   "cell_type": "code",
   "execution_count": 104,
   "id": "138a0f4a-d479-4c20-b283-e44f5d812a29",
   "metadata": {},
   "outputs": [
    {
     "name": "stdout",
     "output_type": "stream",
     "text": [
      "Sorted array: [1, 5, 7, 8, 9, 10]\n"
     ]
    }
   ],
   "source": [
    "def partition(array, low, high):\n",
    "\n",
    "# Choose the rightmost element as pivot\n",
    "    pivot = array[high]\n",
    "\n",
    "# Pointer for greater element\n",
    "    i = low - 1\n",
    "\n",
    "# Traverse through all elements\n",
    "# compare each element with pivot\n",
    "    for j in range(low, high):\n",
    "        if array[j] <= pivot:\n",
    "# If element smaller than pivot is found\n",
    "# swap it with the greater element pointed by i\n",
    "            i = i + 1\n",
    "\n",
    "# Swapping element at i with element at j\n",
    "            (array[i], array[j]) = (array[j], array[i])\n",
    "\n",
    "# Swap the pivot element with the greater element specified by i\n",
    "    (array[i + 1], array[high]) = (array[high], array[i + 1])\n",
    "\n",
    "# Return the position from where partition is done\n",
    "    return i + 1\n",
    "\n",
    "# Function to perform quicksort\n",
    "def quick_sort(array, low, high):\n",
    "    if low < high:\n",
    "        # Find pivot element such that\n",
    "        # element smaller than pivot are on the left\n",
    "        # element greater than pivot are on the right\n",
    "        \n",
    "        pi = partition(array, low, high)\n",
    "\n",
    "        # Recursive call on the left of pivot\n",
    "        \n",
    "        quick_sort(array, low, pi - 1)\n",
    "\n",
    "        # Recursive call on the right of pivot\n",
    "        \n",
    "        quick_sort(array, pi + 1, high)\n",
    "          \n",
    "# Driver code\n",
    "array = [ 10, 7, 8, 9, 1, 5]\n",
    "quick_sort(array, 0, len(array) - 1)\n",
    "\n",
    "print(f'Sorted array: {array}')\n"
   ]
  },
  {
   "cell_type": "markdown",
   "id": "7fbc2766-eaed-43e5-b710-d3c4056f523c",
   "metadata": {},
   "source": [
    "# Counting Sort\n",
    "\n",
    "Idea: Count all the elements in array and append in a list for their individual repitition. Used when there are more duplicate element in the array."
   ]
  },
  {
   "cell_type": "markdown",
   "id": "166b7236-91b8-4638-b88d-3646f34e8107",
   "metadata": {},
   "source": [
    "Time Complexity: O(n+m)\n",
    "    \n",
    "Space Complexity: O(m) where m= max element available in array."
   ]
  },
  {
   "cell_type": "code",
   "execution_count": 124,
   "id": "3dadad6e-ff99-409e-b89b-376c1b217196",
   "metadata": {},
   "outputs": [
    {
     "name": "stdout",
     "output_type": "stream",
     "text": [
      "Before Sorting: [5, 2, 1, 4, 5, 8, 9, 5, 7, 3, 3, 6, 7, 2, 4, 2]\n",
      "After Sorting:  [1, 2, 2, 2, 3, 3, 4, 4, 5, 5, 5, 6, 7, 7, 8, 9]\n"
     ]
    }
   ],
   "source": [
    "def countingSort(arr):\n",
    "    \n",
    "    #To find max element in array for size of count array\n",
    "    maxsize=max(arr)\n",
    "    count=[0]*(maxsize+1)\n",
    "    \n",
    "    #To take count of repeating element\n",
    "    for i in range(0,len(arr)):\n",
    "        count[arr[i]] +=1;\n",
    "   \n",
    "    #To take array element in temp array\n",
    "    result=[]\n",
    "    i=0\n",
    "    while(i<maxsize+1):\n",
    "        if(count[i]>0):\n",
    "            result.append(i)\n",
    "            count[i] -=1\n",
    "        else:\n",
    "            i=i+1\n",
    "    return result\n",
    "            \n",
    "    \n",
    "if __name__==\"__main__\":\n",
    "    arr=[5,2,1,4,5,8,9,5,7,3,3,6,7,2,4,2]\n",
    "    print(\"Before Sorting:\",arr)\n",
    "    sorted_list=countingSort(arr)\n",
    "    print(\"After Sorting: \",sorted_list)"
   ]
  },
  {
   "cell_type": "markdown",
   "id": "61784947-e70e-47c2-bf80-e8aba40a6970",
   "metadata": {},
   "source": [
    "# Radix Sort\n",
    "Idea: every digit made up of 0 to 9 so we will try to sort the numbers based on theirs digits at every places."
   ]
  },
  {
   "cell_type": "markdown",
   "id": "f652c402-196d-4d46-aacf-b89be9dc283b",
   "metadata": {},
   "source": [
    "Time Complexity: O(n*d) Where d=number of digits\n",
    "\n",
    "Space Complexity: O(n) "
   ]
  },
  {
   "cell_type": "code",
   "execution_count": 138,
   "id": "a7ca1ea0-986b-421d-9e31-63e6292b07e2",
   "metadata": {},
   "outputs": [
    {
     "name": "stdout",
     "output_type": "stream",
     "text": [
      "Before Sorting:  [63, 250, 835, 947, 651, 28]\n",
      "After Sorting:  [28, 63, 250, 651, 835, 947]\n"
     ]
    }
   ],
   "source": [
    "def digitCount(num):\n",
    "    count=0\n",
    "    while(num>0):\n",
    "        num=num//10\n",
    "        count=count+1\n",
    "    return count\n",
    "\n",
    "def radixSort(arr):\n",
    "    n=len(arr)\n",
    "    maxElement=max(arr)\n",
    "    digits=digitCount(maxElement)\n",
    "    l=[]\n",
    "    bins=[l]*10      # every element single digit will be of 0 to 9\n",
    "    for i in range(digits):\n",
    "        for j in range(0,n):\n",
    "            e=(arr[j]//pow(10,i))%10\n",
    "            if len(bins[e]) > 0:\n",
    "                bins[e].append(arr[j])\n",
    "            else:\n",
    "                bins[e]=[arr[j]]\n",
    "        k=0\n",
    "        for x in range(10):\n",
    "            if len(bins[x]) > 0:\n",
    "                for y in range(len(bins[x])):\n",
    "                    arr[k]=bins[x].pop(0)\n",
    "                    k=k+1\n",
    "    \n",
    "    \n",
    "if __name__==\"__main__\":\n",
    "    arr=[63,250,835,947,651,28]\n",
    "    print(\"Before Sorting: \",arr)\n",
    "    radixSort(arr)\n",
    "    print(\"After Sorting: \",arr)"
   ]
  },
  {
   "cell_type": "markdown",
   "id": "a3dcbfe0-9abd-4926-b8e8-2f4fdbd3c6a7",
   "metadata": {},
   "source": [
    "# Sort VS Sorted\n",
    "Sort() is a method defined for list which alter the original list.\n",
    "\n",
    "Sorted is a function which will not alter the original list, So this is a better approach for sorting."
   ]
  },
  {
   "cell_type": "code",
   "execution_count": 147,
   "id": "9c932c8e-3c32-4a1e-b524-98f33c2d5cdf",
   "metadata": {},
   "outputs": [
    {
     "name": "stdout",
     "output_type": "stream",
     "text": [
      "C-array after applying sorted function: [1, 4, 5, 8, 45, 34, 64, 50]\n",
      "B-array:  [64, 50, 45, 34, 8, 5, 4, 1]\n",
      "Reverse sorted C-array:  [64, 50, 45, 34, 8, 5, 4, 1]\n"
     ]
    }
   ],
   "source": [
    "C=[1,4,5,8,45,34,64,50]\n",
    "B=sorted(C,reverse=True)\n",
    "print(\"C-array after applying sorted function:\",C)\n",
    "print(\"B-array: \",B)\n",
    "C.sort(reverse=True)\n",
    "print(\"Reverse sorted C-array: \",C)"
   ]
  },
  {
   "cell_type": "markdown",
   "id": "d1fe0748-7572-46d5-86e3-e2030e311ff2",
   "metadata": {},
   "source": [
    "# Linked List"
   ]
  },
  {
   "cell_type": "markdown",
   "id": "5b52deea-8a32-4cd6-93e9-448c15ed8ed7",
   "metadata": {},
   "source": [
    "Storing the data with their address whose size can be expanded dynamically."
   ]
  },
  {
   "cell_type": "markdown",
   "id": "7841ad50-0727-4c45-97be-2ecb525d1611",
   "metadata": {},
   "source": [
    "# Inserting element in linked list at begining,ending and at specific position"
   ]
  },
  {
   "cell_type": "code",
   "execution_count": 205,
   "id": "ada855a4-368f-436f-b76f-b7e2dde7a5d3",
   "metadata": {},
   "outputs": [
    {
     "name": "stdout",
     "output_type": "stream",
     "text": [
      "Nodes added at last: \n",
      "12 23 45 40 \n",
      "12  found at position 1\n",
      "After adding node at beginning: \n",
      "20 100 12 23 45 40 \n",
      "Add at Given position in linked list: \n",
      "20 100 12 1999 23 45 40 \n"
     ]
    }
   ],
   "source": [
    "class Node: \n",
    "    def __init__(self,data):\n",
    "        self.data=data\n",
    "        self.next=None\n",
    "\n",
    "# Node creation completed  now implement some method for linked list.\n",
    "\n",
    "class LinkedList:\n",
    "    # After creation of object for LinkedList class three variable will be automatically initialized. head,tail,size\n",
    "    def __init__(self):\n",
    "        self.head=None\n",
    "    \n",
    "    #Adding element to last of linked list\n",
    "    def addAtLastNode(self,data):\n",
    "        newNode=Node(data)\n",
    "        if(self.head is None):\n",
    "            self.head=newNode\n",
    "            return\n",
    "        last=self.head\n",
    "        while(last.next):\n",
    "            last=last.next\n",
    "        last.next=newNode\n",
    "        \n",
    "    \n",
    "    #Adding element to start of linked list\n",
    "    def addAtBeginning(self,data):\n",
    "        newNode=Node(data)\n",
    "        if(self.head is None):\n",
    "            self.head=newNode\n",
    "            return\n",
    "        else:\n",
    "            newNode.next=self.head\n",
    "            self.head=newNode\n",
    "            \n",
    "    # Adding element at specific position in linked list   \n",
    "    def addingAtGivenPosition(self,data,position):\n",
    "        i=1;temp=self.head\n",
    "        while(i<position-1):\n",
    "            temp=temp.next\n",
    "            i=i+1\n",
    "        newNode=Node(data)\n",
    "        newNode.next=temp.next\n",
    "        temp.next=newNode\n",
    "        \n",
    "    #print the node data    \n",
    "    def display(self):\n",
    "        temp=self.head\n",
    "        while(temp):\n",
    "            print(temp.data,end=\" \")\n",
    "            temp=temp.next\n",
    "        print()\n",
    "    \n",
    "    #Searching the specific value in linked list\n",
    "    def searchData(self,item):\n",
    "        temp=self.head\n",
    "        nodePosition=1\n",
    "        while(temp!=None):\n",
    "            if(temp.data==item):\n",
    "                return nodePosition,item\n",
    "            temp=temp.next\n",
    "            nodePosition +=1\n",
    "        return -1,item\n",
    "    \n",
    "if __name__==\"__main__\":\n",
    "    L=LinkedList()\n",
    "    L.addAtLastNode(12)\n",
    "    L.addAtLastNode(23)\n",
    "    L.addAtLastNode(45)\n",
    "    L.addAtLastNode(40)\n",
    "    print(\"Nodes added at last: \")\n",
    "    L.display()\n",
    "    result=L.searchData(12)\n",
    "    if(result[0]==-1):\n",
    "        print(\"No similar data found\")\n",
    "    else:\n",
    "        print(result[1],\" found at position {}\".format(result[0]))\n",
    "    print(\"After adding node at beginning: \")\n",
    "    L.addAtBeginning(100)\n",
    "    L.addAtBeginning(20)\n",
    "    L.display()\n",
    "    print(\"Add at Given position in linked list: \")\n",
    "    L.addingAtGivenPosition(1999,4)\n",
    "    L.display()"
   ]
  },
  {
   "cell_type": "markdown",
   "id": "acc75e02-a793-4d21-a3ad-c93efae35298",
   "metadata": {},
   "source": [
    "# Deleting the element from begining ending and specific position."
   ]
  },
  {
   "cell_type": "code",
   "execution_count": 231,
   "id": "9e1c3640-dabf-45e2-a61d-3524d027a38c",
   "metadata": {},
   "outputs": [
    {
     "name": "stdout",
     "output_type": "stream",
     "text": [
      "Linked List element are: \n",
      "27 3 10 54 17 \n",
      "Deleted item is: 54\n",
      "27 3 10 17 "
     ]
    }
   ],
   "source": [
    "#For deleting element at first we need to create a linked list. So we will insert the element at end.\n",
    "\n",
    "# Step I == Creating Node for linked list\n",
    "class Node:\n",
    "    __slots__='data','next'\n",
    "    '''Slots in Python is a special mechanism that is used to reduce memory of the objects.\n",
    "       In Python, all the objects use a dynamic dictionary for adding an attribute.\n",
    "       Slots is a static type method in this no dynamic dictionary are required for allocating attribute.'''\n",
    "    def __init__(self,data):\n",
    "        self.data=data\n",
    "        self.next=None\n",
    "# Step II == Create some delete and insert method for linked list\n",
    "class LinkedList:\n",
    "    def __init__(self):\n",
    "        self.head=None\n",
    "    \n",
    "    #Inserting element at last of linked list\n",
    "    def addAtLastNode(self,data):\n",
    "        newNode=Node(data)\n",
    "        if(self.head is None):\n",
    "            self.head=newNode\n",
    "            return\n",
    "        last=self.head\n",
    "        while(last.next):\n",
    "            last=last.next\n",
    "        last.next=newNode\n",
    "    #Deleting element from linked lint \n",
    "    def deleteAtPosition(self,position):\n",
    "        if(self.head is None):\n",
    "            print(\"No element in Linked List: \")\n",
    "            return\n",
    "        \n",
    "        temp=self.head;i=1\n",
    "        if(position==1):\n",
    "            self.head=temp.next\n",
    "            return temp.data\n",
    "        \n",
    "        while(i<position-1):\n",
    "            temp=temp.next\n",
    "            i=i+1\n",
    "        delElement=temp.next.data   \n",
    "        temp.next=temp.next.next\n",
    "        return delElement\n",
    "        \n",
    "    def display(self):\n",
    "        temp=self.head\n",
    "        while(temp):\n",
    "            print(temp.data,end=\" \")\n",
    "            temp=temp.next\n",
    "        \n",
    "if __name__==\"__main__\":\n",
    "    L=LinkedList()\n",
    "    L.addAtLastNode(27)\n",
    "    L.addAtLastNode(3)\n",
    "    L.addAtLastNode(10)\n",
    "    L.addAtLastNode(54)\n",
    "    L.addAtLastNode(17)\n",
    "    print(\"Linked List element are: \")\n",
    "    L.display()\n",
    "    #calling deleting function\n",
    "    deletedItem=L.deleteAtPosition(4)\n",
    "    print(\"\\nDeleted item is:\",deletedItem)\n",
    "    L.display()"
   ]
  },
  {
   "cell_type": "markdown",
   "id": "71fbb59d-4e35-44ec-9bd9-748849a98223",
   "metadata": {},
   "source": [
    "# Circular Linked List"
   ]
  },
  {
   "cell_type": "markdown",
   "id": "02d12228-196c-4913-8284-d41bcccfc331",
   "metadata": {},
   "source": [
    "The linked list whose last node do not represents None although it connects from first node."
   ]
  },
  {
   "cell_type": "code",
   "execution_count": 110,
   "id": "8ee21f01-2e53-49a9-9cf0-2324a5cd0a88",
   "metadata": {},
   "outputs": [
    {
     "name": "stdout",
     "output_type": "stream",
     "text": [
      "Circular Linked List elements:  12 10 18 30 23 \n",
      "True\n",
      "Adding element at position:\n",
      "Circular Linked List elements:  12 10 34 18 30 23 \n",
      "True\n",
      "Deleted item is:  18\n",
      "Circular Linked List elements:  12 10 34 30 23 "
     ]
    }
   ],
   "source": [
    "class Node:\n",
    "    __slots__='data','next'\n",
    "    def __init__(self,data):\n",
    "        self.data=data\n",
    "        self.next=None\n",
    "class CircularLinkedList:\n",
    "    def __init__(self):\n",
    "        self.head=None\n",
    "        \n",
    "    #Adding element to last of the node everytime\n",
    "    def insertElement(self,data):\n",
    "        newNode=Node(data)\n",
    "        if(self.head is None):\n",
    "            self.head=newNode\n",
    "            newNode.next=self.head\n",
    "            return\n",
    "        \n",
    "        p=self.head\n",
    "        while(p.next!=self.head):\n",
    "            p=p.next\n",
    "        p.next=newNode\n",
    "        newNode.next=self.head\n",
    "    #adding element at specific position\n",
    "    def addAnywhere(self,data,position):\n",
    "        newNode=Node(data)\n",
    "        i=1;current=self.head\n",
    "        while(i<position-1):\n",
    "            current=current.next\n",
    "            i=i+1\n",
    "        newNode.next=current.next\n",
    "        current.next=newNode\n",
    "    \n",
    "    #Delete element at anywhere\n",
    "    def deleteAnywhere(self,position):\n",
    "        if(self.head is None):\n",
    "            print(\"No item available for deletion\")\n",
    "            return\n",
    "        j=1;current=self.head\n",
    "        while(j<position-1):\n",
    "            current=current.next\n",
    "            j=j+1\n",
    "        delElement=current.next.data\n",
    "        current.next=current.next.next\n",
    "        return delElement\n",
    "        \n",
    "    #Checking linked list circular or not\n",
    "    def isCircular(self):\n",
    "        temp=self.head\n",
    "        while(temp!=None):\n",
    "            temp=temp.next\n",
    "            if(temp==self.head):\n",
    "                return True\n",
    "        return False\n",
    "    \n",
    "    def display(self):\n",
    "        temp=self.head\n",
    "        print(\"Circular Linked List elements: \",temp.data,end=\" \");temp=temp.next\n",
    "        while(temp!=self.head):\n",
    "            print(temp.data,end=\" \")\n",
    "            temp=temp.next\n",
    "        \n",
    "if __name__==\"__main__\":\n",
    "    CL=CircularLinkedList()\n",
    "    #Calling insert method\n",
    "    CL.insertElement(12)\n",
    "    CL.insertElement(10)\n",
    "    CL.insertElement(18)\n",
    "    CL.insertElement(30)\n",
    "    CL.insertElement(23)\n",
    "    CL.display()\n",
    "    print()\n",
    "    print(CL.isCircular())\n",
    "    print(\"Adding element at position:\")\n",
    "    CL.addAnywhere(34,3)\n",
    "    CL.display()\n",
    "    print()\n",
    "    print(CL.isCircular())\n",
    "    x=CL.deleteAnywhere(4)\n",
    "    print(\"Deleted item is: \",x)\n",
    "    CL.display()"
   ]
  },
  {
   "cell_type": "code",
   "execution_count": 77,
   "id": "2d436d52-3239-4590-97d1-af8ba2b07b82",
   "metadata": {},
   "outputs": [
    {
     "data": {
      "image/png": "[encoded data removed]",
      "text/plain": [
       "<Figure size 432x288 with 1 Axes>"
      ]
     },
     "metadata": {
      "needs_background": "light"
     },
     "output_type": "display_data"
    }
   ],
   "source": [
    "import numpy as np\n",
    "from numpy import sin, cos\n",
    "from scipy.integrate import odeint\n",
    "from matplotlib import pyplot as plt\n",
    "# define the equations\n",
    "def equations(y0, t):\n",
    "    theta, x = y0\n",
    "    f = [x, -(g/l) *sin(theta)]\n",
    "    return f\n",
    "def plot_results(time, theta1):\n",
    "    plt.plot(time, theta1[:,0])\n",
    "\n",
    "\n",
    "plt.xlabel('time (in sec)')\n",
    "plt.ylabel('angle (in degree)')\n",
    "plt.grid(True)\n",
    "g=9.81\n",
    "l=1.0\n",
    "time=np.arange(0,10.0,0.025)\n",
    "initial_angle = 30\n",
    "theta0 = np.radians(initial_angle)\n",
    "np.radians(0.0)\n",
    "theta1 = odeint(equations, [theta0, x0], time)\n",
    "plot_results(time, theta1*180/np.pi)"
   ]
  },
  {
   "cell_type": "markdown",
   "id": "6eef0f11-67f4-4c69-be97-13c84bdcf1ec",
   "metadata": {},
   "source": [
    "# Doubly Linked List"
   ]
  },
  {
   "cell_type": "markdown",
   "id": "ccb460f8-bfca-4d99-b958-322119c5424c",
   "metadata": {},
   "source": [
    "A Doubly Linked List (DLL) contains an extra pointer, typically called previous pointer,\n",
    "together with next pointer and data which are there in singly linked list."
   ]
  },
  {
   "cell_type": "markdown",
   "id": "16dd35ad-1d2d-4ce1-aa29-be5bb64be1af",
   "metadata": {},
   "source": [
    "A DLL can be traversed in both forward and backward direction. "
   ]
  },
  {
   "cell_type": "markdown",
   "id": "d94e1b83-3901-4126-acf0-7a27f980667a",
   "metadata": {},
   "source": [
    "It can traversed in both direction unlike singly linked list. As it have prev pointer also."
   ]
  },
  {
   "cell_type": "code",
   "execution_count": 166,
   "id": "0d9aaf41-5283-406c-9fde-aced152dd1bd",
   "metadata": {},
   "outputs": [
    {
     "name": "stdout",
     "output_type": "stream",
     "text": [
      "DLL Element: 15 12 13 18 56 \n",
      "DLL in reverse: 56 18 13 12 15\n",
      "After adding 98 at begining of DLL: 98 15 12 13 18 56 \n",
      "100 is added at position 4:  98 15 12 100 13 18 56 \n",
      "98 deleted from beginning and DLL elements are: 15 12 100 13 18 56 \n",
      "100 is deleted from position 3, Available DLL element 15 12 13 18 56 "
     ]
    }
   ],
   "source": [
    "# Node Creation of doubly linked list\n",
    "class Node:\n",
    "    __slots__='data','next','prev'\n",
    "    def __init__(self,data):\n",
    "        self.data=data\n",
    "        self.next=None\n",
    "        self.prev=None\n",
    "\n",
    "# Define doubly linked List\n",
    "class DoublyLinkedList:\n",
    "    def __init__(self):\n",
    "        self.head=None\n",
    "    #Adding Element in the Doubly Linked List\n",
    "    def push(self,data):\n",
    "        newNode=Node(data)\n",
    "        if(self.head is None):\n",
    "            self.head=newNode\n",
    "            newNode.prev=self.head\n",
    "            newNode.next=None\n",
    "        else:\n",
    "            temp=self.head\n",
    "            while(temp.next):\n",
    "                temp=temp.next\n",
    "            temp.next=newNode\n",
    "            newNode.prev=temp\n",
    "            newNode.next=None\n",
    "    \n",
    "    #Adding Element to begining of DLL\n",
    "    def addAtBegining(self,data):\n",
    "        newNode=Node(data)\n",
    "        if(self.head is None):\n",
    "            self.head=newNode\n",
    "            newNode.prev=self.head\n",
    "            newNode.next=None\n",
    "        else:\n",
    "            newNode.next=self.head\n",
    "            self.head.prev=newNode\n",
    "            newNode.prev=self.head\n",
    "            self.head=newNode\n",
    "        return self.head.data\n",
    "    \n",
    "    #Adding Element at any position in DLL\n",
    "    def addAtAnyPosition(self,data,position):\n",
    "        newNode=Node(data)\n",
    "        if(position==1):\n",
    "            newNode.next=self.head\n",
    "            self.head.prev=newNode\n",
    "            newNode.prev=self.head\n",
    "            self.head=newNode\n",
    "        else:\n",
    "            i=1;current=self.head\n",
    "            while(i<position-1):\n",
    "                current=current.next\n",
    "                i=i+1\n",
    "            newNode.next=current.next\n",
    "            current.next.prev=newNode\n",
    "            current.next=newNode\n",
    "            newNode.prev=current\n",
    "        return data,position\n",
    "    \n",
    "    #Delete Element at begining of DLL\n",
    "    def delFromBegin(self):\n",
    "        if(self.head is None):\n",
    "            return None\n",
    "        element=self.head.data  #storing the deleted data\n",
    "        self.head=self.head.next\n",
    "        current=self.head.next\n",
    "        current.prev=self.head\n",
    "        return element\n",
    "    \n",
    "    #Delete the element from any position\n",
    "    def delFromAnywhere(self,position):\n",
    "        i=1\n",
    "        current=self.head\n",
    "        while(i<position-1):\n",
    "            current=current.next\n",
    "            i=i+1\n",
    "        element=current.next.data\n",
    "        if(current is not None):\n",
    "            current.next=current.next.next\n",
    "            current.next.prev=current\n",
    "        return element,position\n",
    "            \n",
    "            \n",
    "    #Forward Traverse        \n",
    "    def display(self):\n",
    "        current=self.head\n",
    "        while(current):\n",
    "            print(current.data,end=\" \")\n",
    "            current=current.next\n",
    "   \n",
    "    #Backward Traverse\n",
    "    def backwardTraverse(self):\n",
    "        current=self.head\n",
    "        while(current.next):\n",
    "            current=current.next\n",
    "        last=current\n",
    "        while(last!=self.head):\n",
    "            print(last.data,end=\" \")\n",
    "            last=last.prev\n",
    "        print(last.data)\n",
    "            \n",
    "if __name__==\"__main__\":\n",
    "    DLL=DoublyLinkedList()\n",
    "    #pushing element into Doubly Linked List\n",
    "    DLL.push(15)\n",
    "    DLL.push(12)\n",
    "    DLL.push(13)\n",
    "    DLL.push(18)\n",
    "    DLL.push(56)\n",
    "    print(\"DLL Element:\",end=\" \")\n",
    "    DLL.display()   # Same as Forward traverse of singly linked list\n",
    "    print(\"\\nDLL in reverse:\",end=\" \")\n",
    "    DLL.backwardTraverse()\n",
    "    addedEle=DLL.addAtBegining(98)\n",
    "    print(\"After adding {} at begining of DLL:\".format(addedEle),end=\" \")\n",
    "    DLL.display()\n",
    "    d,p=DLL.addAtAnyPosition(100,4)\n",
    "    print(\"\\n{} is added at position {}: \".format(d,p),end=\" \")\n",
    "    DLL.display()\n",
    "    deletedBeginEle=DLL.delFromBegin()\n",
    "    print(\"\\n{} deleted from beginning and DLL elements are:\".format(deletedBeginEle),end=\" \")\n",
    "    DLL.display()\n",
    "    delFromAny,pos=DLL.delFromAnywhere(3)\n",
    "    print(\"\\n{} is deleted from position {}, Available DLL element\".format(delFromAny,pos),end=\" \")\n",
    "    DLL.display()"
   ]
  },
  {
   "cell_type": "markdown",
   "id": "ad297da3-1573-45f9-8987-d1d3c09afa6d",
   "metadata": {},
   "source": [
    "# Stack"
   ]
  },
  {
   "cell_type": "markdown",
   "id": "7b22c288-6616-4f19-a0b2-57bbfb5d7301",
   "metadata": {},
   "source": [
    "Stack is a linear data structure which follows a particular order in which the operations are performed. The order may be LIFO(Last In First Out) or FILO(First In Last Out)."
   ]
  },
  {
   "cell_type": "markdown",
   "id": "3a21fa6e-ab8d-4e1a-a9fb-3ef30d725d51",
   "metadata": {},
   "source": [
    "Basic Operation with Stack\n",
    "\n",
    "empty() – Returns whether the stack is empty – Time Complexity: O(1)\n",
    "\n",
    "size() – Returns the size of the stack – Time Complexity: O(1)\n",
    "\n",
    "top() – Returns a reference to the topmost element of the stack – Time Complexity: O(1)\n",
    "\n",
    "push(a) – Inserts the element ‘a’ at the top of the stack – Time Complexity: O(1)\n",
    "\n",
    "pop() – Deletes the topmost element of the stack – Time Complexity: O(1)"
   ]
  },
  {
   "cell_type": "markdown",
   "id": "eb5821cc-6574-452f-b76f-b508ff158577",
   "metadata": {},
   "source": [
    "Q. In python which data structure is more suitable to implement stack?\n",
    "\n",
    "Ans--> List is sutaible because it's mutable. We can't use tuple as it is immutable, so we can't perform update the value inside tuple.\n",
    "\n",
    "Q. What is Overflow condition in Stack?\n",
    "\n",
    "Ans-- when stack is alrady full but it comes with array in C/C++/Java/. because we use List in Python for stack implementation and List size is dynamic."
   ]
  },
  {
   "cell_type": "markdown",
   "id": "9c8461c7-30f2-4175-a3d1-e88ec416669c",
   "metadata": {},
   "source": [
    "# Stack Implementation using List"
   ]
  },
  {
   "cell_type": "code",
   "execution_count": 65,
   "id": "de923210-5a2d-4182-b107-b3928407f245",
   "metadata": {},
   "outputs": [
    {
     "name": "stdout",
     "output_type": "stream",
     "text": [
      "No element inside stack\n",
      "No element in Stack\n",
      "0\n",
      "After Push operation:  [21, 34, 39, 67, 45]\n",
      "Performing pop operation:  [21, 34, 39, 67]\n",
      "Performing top operation:  67\n"
     ]
    }
   ],
   "source": [
    "class StackList:\n",
    "    \n",
    "    def __init__(self):\n",
    "        self.data=[]\n",
    "    \n",
    "    def __len__(self):\n",
    "        return len(self.data)\n",
    "    \n",
    "    def isEmpty(self):\n",
    "        return len(self.data)==0\n",
    "    \n",
    "    def push(self,element):\n",
    "        self.data.append(element)\n",
    "    \n",
    "    def pop(self):\n",
    "        if(self.isEmpty()):\n",
    "            print(\"No element inside stack\")\n",
    "            return\n",
    "        return self.data.pop()\n",
    "    \n",
    "    def top(self):\n",
    "        if(self.isEmpty()):\n",
    "            print(\"No element in Stack\")\n",
    "            return\n",
    "        return self.data[-1]\n",
    "    \n",
    "if __name__==\"__main__\":\n",
    "    stack=StackList()\n",
    "    stack.pop()\n",
    "    stack.top()\n",
    "    print(len(stack))\n",
    "    stack.isEmpty()\n",
    "    print(\"After Push operation: \",end=\" \")\n",
    "    stack.push(21)\n",
    "    stack.push(34)\n",
    "    stack.push(39)\n",
    "    stack.push(67)\n",
    "    stack.push(45)\n",
    "    print(stack.data)\n",
    "    print(\"Performing pop operation: \",end=\" \")\n",
    "    stack.pop()\n",
    "    print(stack.data)\n",
    "    print(\"Performing top operation: \",end=\" \")\n",
    "    print(stack.top())"
   ]
  },
  {
   "cell_type": "markdown",
   "id": "850471d2-f826-4c96-9516-9be094aff392",
   "metadata": {},
   "source": [
    "# Stack using Linked List"
   ]
  },
  {
   "cell_type": "markdown",
   "id": "65e1f43e-ebf9-47bb-ad3c-1c8cb4876c3d",
   "metadata": {},
   "source": [
    "Stack using singly linked list(SLL) is not so different. push() operation will add element at begining of SLL and pop() will delete element only from begining. top() will return always last element."
   ]
  },
  {
   "cell_type": "code",
   "execution_count": 211,
   "id": "393b434a-63fd-4c2e-830a-daf044733330",
   "metadata": {},
   "outputs": [
    {
     "name": "stdout",
     "output_type": "stream",
     "text": [
      "True\n",
      "Stack is Empty,Please push some data to perform pop\n",
      "Stack doesn't have Element at top\n",
      "length of stack:  5\n",
      "stack elements are:  35 34 23 10 12 \n",
      "Top element:  35\n",
      "Popped Element: 35\n",
      "See the changes after pop:  34 23 10 12 "
     ]
    }
   ],
   "source": [
    "class Node:\n",
    "    __slots__='data','next'\n",
    "    def __init__(self,data):\n",
    "        self.data=data\n",
    "        self.next=None\n",
    "class StackSLL:\n",
    "    def __init__(self):\n",
    "        #head will be replaced by top\n",
    "        self.top=None\n",
    "        self.size=0\n",
    "        \n",
    "    # __len__ will return current size of stack everytime\n",
    "    def __len__(self):\n",
    "        return self.size\n",
    "    \n",
    "    #checking stack is empty or not\n",
    "    def isEmpty(self):\n",
    "        return self.size==0\n",
    "    \n",
    "    #Always add element at begining of stack\n",
    "    def push(self,data):\n",
    "        newItem=Node(data)\n",
    "        if(self.top is None):\n",
    "            self.top=newItem\n",
    "            newItem.next=None\n",
    "            self.size +=1\n",
    "        else:\n",
    "            newItem.next=self.top\n",
    "            self.top=newItem\n",
    "            self.size +=1  # after pushing the element increasing the size\n",
    "            \n",
    "    #Delete the element from end of the linked list\n",
    "    def pop(self):\n",
    "        poppedElement=0\n",
    "        if(self.isEmpty()):\n",
    "            print(\"Stack is Empty,Please push some data to perform pop\")\n",
    "            return\n",
    "        poppedElement=self.top.data\n",
    "        self.top=self.top.next\n",
    "        self.size -=1\n",
    "        return poppedElement\n",
    "    \n",
    "    # returns begining element always\n",
    "    def Top(self):\n",
    "        if(self.isEmpty()):\n",
    "            print(\"Stack doesn't have Element at top\")\n",
    "            return \n",
    "        return self.top.data\n",
    "    \n",
    "    #dispaly the element inside stack\n",
    "    def display(self):\n",
    "        view=self.top\n",
    "        while(view):\n",
    "            print(view.data,end=\" \")\n",
    "            view=view.next\n",
    "            \n",
    "#Main function to organize the call of diff method            \n",
    "if __name__==\"__main__\":\n",
    "    stack=StackSLL()\n",
    "    #Checking initially stack is empty or not\n",
    "    print(stack.isEmpty())\n",
    "    stack.pop()\n",
    "    stack.Top()\n",
    "    #push some element into stack\n",
    "    stack.push(12)\n",
    "    stack.push(10)\n",
    "    stack.push(23)\n",
    "    stack.push(34)\n",
    "    stack.push(35)\n",
    "    print(\"length of stack: \",len(stack))\n",
    "    print(\"stack elements are: \",end=\" \")\n",
    "    stack.display()\n",
    "    #getting top element\n",
    "    print(\"\\nTop element: \", stack.Top())\n",
    "    print(\"Popped Element:\",stack.pop())\n",
    "    print(\"See the changes after pop: \",end=\" \")\n",
    "    stack.display()"
   ]
  },
  {
   "cell_type": "markdown",
   "id": "2dabd3c5-d2af-4d61-ac9b-8b01d306459a",
   "metadata": {},
   "source": [
    "# Queue"
   ]
  },
  {
   "cell_type": "markdown",
   "id": "d5f78651-df2a-4fc9-9124-4b931ba08c92",
   "metadata": {},
   "source": [
    " A linear data structure that follows a particular order in which the operations are performed for storing data. The order is First In First Out (FIFO). "
   ]
  },
  {
   "cell_type": "markdown",
   "id": "2f4b4e4f-229a-4880-804d-6a3a7faa3044",
   "metadata": {},
   "source": [
    "One can imagine a queue as a line of people waiting to receive something in sequential order which starts from the beginning of the line."
   ]
  },
  {
   "cell_type": "markdown",
   "id": "f4ad3bb8-c8d9-4124-9974-0c266aece4da",
   "metadata": {},
   "source": [
    " It is an ordered list in which insertions are done at one end which is known as the rear and deletions are done from the other end known as the front."
   ]
  },
  {
   "cell_type": "markdown",
   "id": "4c6c5cad-dbef-4241-b67c-773e8dc7be1f",
   "metadata": {},
   "source": [
    "# Basic Operation in Queue"
   ]
  },
  {
   "cell_type": "markdown",
   "id": "eed20ce9-f270-48b0-a43a-bf40e0dc497b",
   "metadata": {},
   "source": [
    "enqueue(int data): Inserts an element at the end of the queue i.e. at the rear end.\n",
    "\n",
    "dequeue(): This operation removes and returns an element that is at the front end of the queue.\n",
    "\n",
    "Auxiliary Operations on Queue:\n",
    "\n",
    "front(): This operation returns the element at the front end without removing it.\n",
    "\n",
    "rear(): This operation returns the element at the rear end without removing it.\n",
    "\n",
    "isEmpty(): This operation indicates whether the queue is empty or not.\n",
    "\n",
    "size(): This operation returns the size of the queue i.e. the total number of elements it contains.  "
   ]
  },
  {
   "cell_type": "markdown",
   "id": "f1075975-9343-4d1b-97e5-85c124ece2ce",
   "metadata": {},
   "source": [
    "Priority Queue: This queue is a special type of queue. Its specialty is that it arranges the elements in a queue based on some priority."
   ]
  },
  {
   "cell_type": "markdown",
   "id": "ef1f6ddc-8b20-45d8-8e93-b4b04da53f3f",
   "metadata": {},
   "source": [
    "Real World Application: When a resource is shared among multiple consumers. Examples include CPU scheduling, Disk Scheduling."
   ]
  },
  {
   "cell_type": "markdown",
   "id": "46d8e353-e99e-4358-81f0-eb6f84c5c24f",
   "metadata": {},
   "source": [
    "# Queue using List"
   ]
  },
  {
   "cell_type": "code",
   "execution_count": 90,
   "id": "b266fb10-6019-40ce-ae65-79e6f578dac1",
   "metadata": {},
   "outputs": [
    {
     "name": "stdout",
     "output_type": "stream",
     "text": [
      "Queue is empty, No front item available!!\n",
      "None\n",
      "Queue is empty,No rear item available!!\n",
      "None\n",
      "True\n",
      "[]\n",
      "Queue element:  [23, 45, 56]\n",
      "Dequed element: 23\n",
      "after EnQueue operation:  [45, 56, 80, 100]\n",
      "Front element:  45\n",
      "Rear element:  100\n"
     ]
    }
   ],
   "source": [
    "class QueueList:\n",
    "    def __init__(self):\n",
    "        self.queue=[]\n",
    "    def __len__(self):\n",
    "        return len(self.queue)\n",
    "    def isEmpty(self):\n",
    "        return len(self.queue)==0\n",
    "    def enQueue(self,data):\n",
    "        self.queue.append(data)\n",
    "    def deQueue(self):\n",
    "        if(self.isEmpty()):\n",
    "            print(\"Queue is Empty!!\")\n",
    "            return\n",
    "        return self.queue.pop(0)\n",
    "    def front(self):\n",
    "        if(self.isEmpty()):\n",
    "            print(\"Queue is empty, No front item available!!\")\n",
    "            return\n",
    "        return self.queue[0]\n",
    "    def rear(self):\n",
    "        if(self.isEmpty()):\n",
    "            print(\"Queue is empty,No rear item available!!\")\n",
    "            return\n",
    "        return self.queue[len(self.queue)-1]\n",
    "    \n",
    "if __name__==\"__main__\":\n",
    "    Q=QueueList()\n",
    "    print(Q.front())\n",
    "    print(Q.rear())\n",
    "    print(Q.isEmpty())\n",
    "    print(Q.queue)\n",
    "    Q.enQueue(23)\n",
    "    Q.enQueue(45)\n",
    "    Q.enQueue(56)\n",
    "    print(\"Queue element: \",Q.queue)\n",
    "    print(\"Dequed element:\",Q.deQueue())\n",
    "    Q.enQueue(80)\n",
    "    Q.enQueue(100)\n",
    "    print(\"after EnQueue operation: \",Q.queue)\n",
    "    print(\"Front element: \",Q.front())\n",
    "    print(\"Rear element: \",Q.rear())"
   ]
  },
  {
   "cell_type": "markdown",
   "id": "76976c20-4b52-4ab2-ae36-717683866c1c",
   "metadata": {},
   "source": [
    "# Queue using singly Linked List"
   ]
  },
  {
   "cell_type": "markdown",
   "id": "ec88c920-3ee3-4045-96ee-202be686b1e7",
   "metadata": {},
   "source": [
    "A generalized view of Queue Data Structure which allows insertion and deletion at both ends."
   ]
  },
  {
   "cell_type": "markdown",
   "id": "0e6954ee-612f-4a75-a90a-88d95e1d1033",
   "metadata": {},
   "source": [
    "# Operations on Deque:"
   ]
  },
  {
   "cell_type": "markdown",
   "id": "f5dfe304-bbfa-4d22-9519-f5e62357bd75",
   "metadata": {},
   "source": [
    "insertFront(): Adds an item at the front of Deque."
   ]
  },
  {
   "cell_type": "markdown",
   "id": "7a5aa4d6-fe10-4167-b56f-f29485f7731e",
   "metadata": {},
   "source": [
    "insertLast(): Adds an item at the rear of Deque."
   ]
  },
  {
   "cell_type": "markdown",
   "id": "ee2bde7e-fc2c-4a8c-bd60-b0dec74ba9f0",
   "metadata": {},
   "source": [
    "deleteFront(): Deletes an item from the front of Deque.\n",
    "\n",
    "deleteLast(): Deletes an item from the rear of Deque. In addition to the above operations, the following operations are also supported.\n",
    "\n",
    "getFront(): Gets the front item from the queue.\n",
    "\n",
    "getRear(): Gets the last item from queue.\n",
    "\n",
    "isEmpty(): Checks whether Deque is empty or not.\n",
    "\n",
    "isFull(): Checks whether Deque is full or not."
   ]
  },
  {
   "cell_type": "markdown",
   "id": "00eea7d3-497b-4819-9d9e-78cb4d754338",
   "metadata": {},
   "source": [
    "# Applicaton of Deque"
   ]
  },
  {
   "cell_type": "markdown",
   "id": "1592752f-7a9d-4f2d-9238-e3be560931fe",
   "metadata": {},
   "source": [
    "Storing a web browser’s history.\n",
    "\n",
    "Storing a software application’s list of undo operations.\n",
    "\n",
    "Job scheduling algorithm."
   ]
  },
  {
   "cell_type": "code",
   "execution_count": 12,
   "id": "fa884cf4-93eb-472f-8977-ee2a8c373141",
   "metadata": {},
   "outputs": [
    {
     "name": "stdout",
     "output_type": "stream",
     "text": [
      "[12, 21]\n",
      "2\n"
     ]
    }
   ],
   "source": [
    "'''Data can be inserted and removed from both end'''\n",
    "class Deque:\n",
    "    def __init__(self):\n",
    "        self.deque=[]\n",
    "    def __len__(self):\n",
    "        return len(self.deque)\n",
    "    def isEmpty(self):\n",
    "        return len(self.deque)==0\n",
    "    def insertFront(self,data):\n",
    "        self.deque.insert(0,data)\n",
    "    def insertRear(self,data):\n",
    "        self.deque.append(data)\n",
    "    def popfront(self):\n",
    "        self.deque.pop(0)\n",
    "    def popRear(self):\n",
    "        self.deque.pop()\n",
    "if __name__==\"__main__\":\n",
    "    d=Deque()\n",
    "    d.insertFront(21)\n",
    "    d.insertFront(12)\n",
    "    d.insertFront(100)\n",
    "    d.insertRear(40)\n",
    "    d.popfront()\n",
    "    d.popRear()\n",
    "    print(d.deque)\n",
    "    print(len(d))"
   ]
  },
  {
   "cell_type": "markdown",
   "id": "7241001b",
   "metadata": {},
   "source": [
    "# Tree Data Structure"
   ]
  },
  {
   "cell_type": "markdown",
   "id": "00de924a",
   "metadata": {},
   "source": [
    "A tree is non-linear and a hierarchical data structure consisting of a collection of nodes such that each node of the tree\n",
    "stores a value and a list of references to other nodes (the “children”)."
   ]
  },
  {
   "cell_type": "markdown",
   "id": "fce1560d",
   "metadata": {},
   "source": [
    "Number of edges: An edge can be defined as the connection between two nodes.If a tree has N nodes then it will have (N-1) edges."
   ]
  },
  {
   "cell_type": "markdown",
   "id": "b54979e7",
   "metadata": {},
   "source": [
    "Depth of a node:it can be defined as the number of edges in the path from the root of the tree to the node."
   ]
  },
  {
   "cell_type": "markdown",
   "id": "2a7f604b",
   "metadata": {},
   "source": [
    "Degree of a Node: The total count of subtrees attached to that node is called the degree of the node."
   ]
  },
  {
   "cell_type": "markdown",
   "id": "ea427588",
   "metadata": {},
   "source": [
    "# Properties of Tree"
   ]
  },
  {
   "cell_type": "markdown",
   "id": "3a872c93",
   "metadata": {},
   "source": [
    "Traversing in a tree is done by depth first search(DFS) and breadth first search(BFS) algorithm.\n",
    "\n",
    "It has no loop and no circuit.\n",
    "\n",
    "It has no self-loop. \n",
    "\n",
    "It's hierarchical model."
   ]
  },
  {
   "cell_type": "markdown",
   "id": "ea337a6e",
   "metadata": {},
   "source": [
    "# Basic Operation for Tree"
   ]
  },
  {
   "cell_type": "markdown",
   "id": "f2b3d7af",
   "metadata": {},
   "source": [
    "Create – create a tree in data structure.\n",
    "\n",
    "Insert − Inserts data in a tree.\n",
    "\n",
    "Search − Searches specific data  in a tree to check it is present or not.\n",
    "\n",
    "Preorder Traversal – perform Traveling a tree in a pre-order manner in data structure .\n",
    "\n",
    "In order Traversal – perform Traveling a tree in an in-order manner.\n",
    "\n",
    "Post order Traversal –perform Traveling a tree in a post-order manner."
   ]
  },
  {
   "cell_type": "markdown",
   "id": "9369407d",
   "metadata": {},
   "source": [
    "# Types of Tree"
   ]
  },
  {
   "cell_type": "markdown",
   "id": "e37d2ccf",
   "metadata": {},
   "source": [
    "1. General tree\n",
    "\n",
    "A general tree data structure has no restriction on the number of nodes.\n",
    "It means that a parent node can have any number of child nodes.  \n",
    "\n",
    "2. Binary tree  \n",
    "\n",
    "A node of a binary tree can have a maximum of two child nodes. In the given tree diagram, node B, D, and F are left children,\n",
    "while E, C, and G are the right children.  \n",
    "\n",
    "3. Balanced tree\n",
    "\n",
    "If the height of the left sub-tree and the right sub-tree is equal or differs at most by 1,the tree is known as a balanced tree "
   ]
  },
  {
   "cell_type": "code",
   "execution_count": 13,
   "id": "83a07fc6",
   "metadata": {},
   "outputs": [
    {
     "data": {
      "image/png": "[encoded data removed]",
      "text/plain": [
       "<PIL.PngImagePlugin.PngImageFile image mode=RGB size=499x223>"
      ]
     },
     "execution_count": 13,
     "metadata": {},
     "output_type": "execute_result"
    }
   ],
   "source": [
    "from PIL import Image\n",
    "tree_img=Image.open('tree_structure.png')\n",
    "tree_img"
   ]
  },
  {
   "cell_type": "markdown",
   "id": "b9b60d51",
   "metadata": {},
   "source": [
    "Maximum no of Node=2^(h+1) - 1 : Where h=height of binary tree"
   ]
  },
  {
   "cell_type": "markdown",
   "id": "2816d848",
   "metadata": {},
   "source": [
    "# Array Representation of Binary tree\n",
    "Note: We will take upto 3rd level of tree-1 from above image\n",
    "\n",
    "Step1: start index with 1 so our numbering for node element will be like A ->1 B->2 C->3 D->4 E->5 F->6 G->7\n",
    "\n",
    "    Element        Index        Left        Right\n",
    "      A              1            2           3\n",
    "      B              2            4           5\n",
    "      C              3            6           7\n",
    "                     i            i*2         i*2+1\n",
    "            "
   ]
  },
  {
   "cell_type": "markdown",
   "id": "f1a9a9a1",
   "metadata": {},
   "source": [
    "# Linked List Representation of Binary Tree"
   ]
  },
  {
   "cell_type": "code",
   "execution_count": 5,
   "id": "f1e3032a",
   "metadata": {},
   "outputs": [
    {
     "data": {
      "image/png": "[encoded data removed]",
      "text/plain": [
       "<PIL.PngImagePlugin.PngImageFile image mode=RGB size=721x407>"
      ]
     },
     "execution_count": 5,
     "metadata": {},
     "output_type": "execute_result"
    }
   ],
   "source": [
    "from PIL import Image\n",
    "LLR=Image.open('Linked_List_tree.png')\n",
    "LLR"
   ]
  },
  {
   "cell_type": "markdown",
   "id": "462bf218",
   "metadata": {},
   "source": [
    "# Traversal in Tree"
   ]
  },
  {
   "cell_type": "markdown",
   "id": "7ac6e670",
   "metadata": {},
   "source": [
    "1.Pre-Order Traversal:\n",
    "    \n",
    "    a) Visit Root\n",
    "    b) Visit Left Subtree Recursively Pre-Order\n",
    "    c) Visit Right Subtree Recursively Pre-Order\n",
    "    \n",
    "    So from above Figure Pre-Order traversal will be like A->15 B->10 D->8 E->12 C->20 F->17 G->25\n",
    "    See the below example for pre-Order Traversal"
   ]
  },
  {
   "cell_type": "code",
   "execution_count": 15,
   "id": "9efe2566",
   "metadata": {},
   "outputs": [
    {
     "name": "stdout",
     "output_type": "stream",
     "text": [
      "Pre-Order Traversal for tree:  15 10 8 12 20 17 25 "
     ]
    }
   ],
   "source": [
    "class _Node:\n",
    "    __slots__='_element','_left','_right'\n",
    "    def __init__(self,element,left=None,right=None):\n",
    "        self._element=element\n",
    "        self._left=left\n",
    "        self._right=right\n",
    "class BinaryTree:\n",
    "    def __init__(self):\n",
    "        self._root=None\n",
    "        \n",
    "    def makeTree(self,element,left,right):\n",
    "        self._root=_Node(element,left._root,right._root)\n",
    "    \n",
    "    def preOrder_traversal(self,proot):\n",
    "        if(proot):\n",
    "            print(proot._element,end=\" \")\n",
    "            self.preOrder_traversal(proot._left)\n",
    "            self.preOrder_traversal(proot._right)\n",
    "        \n",
    "        \n",
    "if __name__==\"__main__\":\n",
    "    A=BinaryTree()\n",
    "    B=BinaryTree()\n",
    "    C=BinaryTree()\n",
    "    D=BinaryTree()\n",
    "    E=BinaryTree()\n",
    "    F=BinaryTree()\n",
    "    G=BinaryTree()\n",
    "    a=BinaryTree()\n",
    "    D.makeTree(8,a,a)\n",
    "    E.makeTree(12,a,a)\n",
    "    B.makeTree(10,D,E)\n",
    "    F.makeTree(17,a,a)\n",
    "    G.makeTree(25,a,a)\n",
    "    C.makeTree(20,F,G)\n",
    "    A.makeTree(15,B,C)\n",
    "    print(\"Pre-Order Traversal for tree: \",end=\" \")\n",
    "    A.preOrder_traversal(A._root)\n",
    "    "
   ]
  },
  {
   "cell_type": "markdown",
   "id": "72edd709",
   "metadata": {},
   "source": [
    "2.Post-Order Traversal:\n",
    "    \n",
    "    a)Visit left subtree recursively post-order\n",
    "    b)Visit right subtree recursively post-order\n",
    "    c)Visit Root\n",
    "    \n",
    "    So from above Figure Post-Order traversal will be like D->8 E->12 B->10 F->17 C->20  G->25 A->15 \n",
    "    See the below example for Post-Order Traversal"
   ]
  },
  {
   "cell_type": "code",
   "execution_count": 22,
   "id": "7913dd8e",
   "metadata": {},
   "outputs": [
    {
     "name": "stdout",
     "output_type": "stream",
     "text": [
      "Post-Order Traversal is:  8 12 10 17 25 20 15 "
     ]
    }
   ],
   "source": [
    "class _Node:\n",
    "    __slots__='_element','_left','_right'\n",
    "    \n",
    "    def __init__(self,element,left=None,right=None):\n",
    "        self._element=element\n",
    "        self._left=left\n",
    "        self._right=right\n",
    "        \n",
    "class BinaryTree:\n",
    "    def __init__(self):\n",
    "        self._root=None\n",
    "    def makeTree(self,element,left,right):\n",
    "        self._root=_Node(element,left._root,right._root)\n",
    "    def postOrder_Traversal(self,proot):\n",
    "        if(proot):\n",
    "            self.postOrder_Traversal(proot._left)\n",
    "            self.postOrder_Traversal(proot._right)\n",
    "            print(proot._element,end=\" \")\n",
    "    \n",
    "if __name__==\"__main__\":\n",
    "    A=BinaryTree()\n",
    "    B=BinaryTree()\n",
    "    C=BinaryTree()\n",
    "    D=BinaryTree()\n",
    "    E=BinaryTree()\n",
    "    F=BinaryTree()\n",
    "    G=BinaryTree()\n",
    "    a=BinaryTree()\n",
    "    D.makeTree(8,a,a)\n",
    "    E.makeTree(12,a,a)\n",
    "    B.makeTree(10,D,E)\n",
    "    F.makeTree(17,a,a)\n",
    "    G.makeTree(25,a,a)\n",
    "    C.makeTree(20,F,G)\n",
    "    A.makeTree(15,B,C)\n",
    "    print(\"Post-Order Traversal is: \",end=\" \")\n",
    "    A.postOrder_Traversal(A._root)"
   ]
  },
  {
   "cell_type": "markdown",
   "id": "7087b2c6",
   "metadata": {},
   "source": [
    "3.In-Order Traversal:\n",
    "    \n",
    "    a)Visit left subtree recursively In-Order\n",
    "    b)Visit Root\n",
    "    c)Visit Right subtree recursively In-Order\n",
    "    \n",
    "So from above Figure In-Order traversal will be like D->8 B->10 E->12 A->15 F->17 C->20  G->25 \n",
    "\n",
    "See the below example for In-Order Traversal."
   ]
  },
  {
   "cell_type": "code",
   "execution_count": 27,
   "id": "9b0d46df",
   "metadata": {},
   "outputs": [
    {
     "name": "stdout",
     "output_type": "stream",
     "text": [
      "In-Order Traversal is:  8 10 12 15 17 20 25 "
     ]
    }
   ],
   "source": [
    "class _Node:\n",
    "    __slots__='_element','_left','_right'\n",
    "    def __init__(self,element,left,right):\n",
    "        self._element=element\n",
    "        self._left=left\n",
    "        self._right=right\n",
    "        \n",
    "class BinaryTree:\n",
    "    def __init__(self):\n",
    "        self._root=None\n",
    "    def makeTree(self,element,left,right):\n",
    "        self._root=_Node(element,left._root,right._root)\n",
    "    def inOrder_Traversal(self,proot):\n",
    "        if(proot):\n",
    "            self.inOrder_Traversal(proot._left)\n",
    "            print(proot._element,end=\" \")\n",
    "            self.inOrder_Traversal(proot._right)\n",
    "        else:\n",
    "            return\n",
    "            \n",
    "    \n",
    "if __name__==\"__main__\":\n",
    "    A=BinaryTree()\n",
    "    B=BinaryTree()\n",
    "    C=BinaryTree()\n",
    "    D=BinaryTree()\n",
    "    E=BinaryTree()\n",
    "    F=BinaryTree()\n",
    "    G=BinaryTree()\n",
    "    a=BinaryTree()\n",
    "    D.makeTree(8,a,a)\n",
    "    E.makeTree(12,a,a)\n",
    "    B.makeTree(10,D,E)\n",
    "    F.makeTree(17,a,a)\n",
    "    G.makeTree(25,a,a)\n",
    "    C.makeTree(20,F,G)\n",
    "    A.makeTree(15,B,C)\n",
    "    print(\"In-Order Traversal is: \",end=\" \")\n",
    "    A.inOrder_Traversal(A._root)"
   ]
  },
  {
   "cell_type": "markdown",
   "id": "604b56f7",
   "metadata": {},
   "source": [
    "4. Level-Order Traversal:\n",
    "\n",
    "    a) Visit nodes level by level from top to bottom.\n",
    "    \n",
    "    b) Within level visit nodes from left to right.\n",
    "    \n",
    "   So from above Figure Level-Order traversal will be like A->15 B->10 C->20 D->8 E->12 F->17 G->25 \n",
    "\n",
    "   See the below example for Level-Order Traversal. "
   ]
  },
  {
   "cell_type": "code",
   "execution_count": 9,
   "id": "cd13eaca",
   "metadata": {},
   "outputs": [
    {
     "name": "stdout",
     "output_type": "stream",
     "text": [
      "Level-Order Traversal is:  15 10 20 8 12 17 25 "
     ]
    }
   ],
   "source": [
    "from queue import Queue\n",
    "class _Node:\n",
    "    __slots__='_element','_left','_right'\n",
    "    def __init__(self,element,left,right):\n",
    "        self._element=element\n",
    "        self._left=left\n",
    "        self._right=right\n",
    "class BinaryTree:\n",
    "    def __init__(self):\n",
    "        self._root=None\n",
    "    def makeTree(self,element,left,right):\n",
    "        self._root=_Node(element,left._root,right._root)\n",
    "    def levelOrderTraversal(self,proot):\n",
    "        Q=Queue()\n",
    "        print(proot._element,end=\" \")\n",
    "        Q.put(proot)\n",
    "        while(not Q.empty()):\n",
    "            proot=Q.get()\n",
    "            if(proot._left):\n",
    "                print(proot._left._element,end=\" \")\n",
    "                Q.put(proot._left)\n",
    "            if(proot._right):\n",
    "                print(proot._right._element,end=\" \")\n",
    "                Q.put(proot._right)\n",
    "            \n",
    "        \n",
    "    \n",
    "if __name__==\"__main__\":\n",
    "    A=BinaryTree();B=BinaryTree();C=BinaryTree();D=BinaryTree();E=BinaryTree();F=BinaryTree();G=BinaryTree()\n",
    "    a=BinaryTree()  # making a null node\n",
    "    #inserting the node element in binary tree\n",
    "    D.makeTree(8,a,a)\n",
    "    E.makeTree(12,a,a)\n",
    "    B.makeTree(10,D,E)\n",
    "    F.makeTree(17,a,a)\n",
    "    G.makeTree(25,a,a)\n",
    "    C.makeTree(20,F,G)\n",
    "    A.makeTree(15,B,C)\n",
    "    print(\"Level-Order Traversal is: \",end=\" \")\n",
    "    A.levelOrderTraversal(A._root)\n",
    "    \n",
    "        "
   ]
  },
  {
   "cell_type": "markdown",
   "id": "408c1890",
   "metadata": {},
   "source": [
    "# key Points\n",
    "\n",
    "1) As we are printing element at every order level so we need to keep a refrence of nodes element.\n",
    "\n",
    "2) So we have used a Queue for storing refrence of nodes and printing each left AND right element.\n",
    "\n",
    "3) Also removing the node before printing the node element."
   ]
  },
  {
   "cell_type": "markdown",
   "id": "84502537",
   "metadata": {},
   "source": [
    "# Count of Nodes"
   ]
  },
  {
   "cell_type": "code",
   "execution_count": 23,
   "id": "943cb5ea",
   "metadata": {},
   "outputs": [
    {
     "name": "stdout",
     "output_type": "stream",
     "text": [
      "Total count of Nodes: 7\n",
      "Height of Binary tree: 3\n"
     ]
    }
   ],
   "source": [
    "class _Node:\n",
    "    __slots__='_element','_left','_right'\n",
    "    \n",
    "    def __init__(self,element,left,right):\n",
    "        self._element=element\n",
    "        self._left=left\n",
    "        self._right=right\n",
    "        \n",
    "class BinaryTree:\n",
    "    def __init__(self):\n",
    "        self._root=None\n",
    "        \n",
    "    def makeTree(self,element,left,right):\n",
    "       self._root=_Node(element,left._root,right._root)\n",
    "    \n",
    "    def countOfNodes(self,croot):\n",
    "        if(croot):\n",
    "            x=self.countOfNodes(croot._left)\n",
    "            y=self.countOfNodes(croot._right)\n",
    "            return x+y+1\n",
    "        return 0\n",
    "    \n",
    "    def treeHeight(self,hroot):\n",
    "        if(hroot):\n",
    "            x=self.treeHeight(hroot._left)\n",
    "            y=self.treeHeight(hroot._right)\n",
    "            if(x>y):\n",
    "                return x+1\n",
    "            else:\n",
    "                return y+1\n",
    "        \n",
    "        return 0\n",
    "    \n",
    "# Main function to organize the function call\n",
    "if __name__==\"__main__\":\n",
    "    A=BinaryTree();B=BinaryTree();C=BinaryTree();D=BinaryTree();E=BinaryTree();F=BinaryTree();G=BinaryTree();\n",
    "    a=BinaryTree()\n",
    "    D.makeTree(8,a,a)\n",
    "    E.makeTree(12,a,a)\n",
    "    B.makeTree(10,D,E)\n",
    "    F.makeTree(17,a,a)\n",
    "    G.makeTree(25,a,a)\n",
    "    C.makeTree(20,F,G)\n",
    "    A.makeTree(15,B,C)\n",
    "    print(\"Total count of Nodes:\",A.countOfNodes(A._root))\n",
    "    print(\"Height of Binary tree:\",A.treeHeight(A._root))"
   ]
  },
  {
   "cell_type": "markdown",
   "id": "37d48c4a",
   "metadata": {},
   "source": [
    "# Binary Search Tree:\n",
    "In a Binary search tree,the value of left node must be smaller than the parent node, and the value of right node must be greater than the parent node. This rule is applied recursively to the left and right subtrees of the root.\n",
    "\n",
    "Note: Binary Search Tree can't have duplicate element."
   ]
  },
  {
   "cell_type": "code",
   "execution_count": 24,
   "id": "affc785a",
   "metadata": {},
   "outputs": [
    {
     "data": {
      "image/png": "[encoded data removed]",
      "text/plain": [
       "<PIL.PngImagePlugin.PngImageFile image mode=P size=405x274>"
      ]
     },
     "execution_count": 24,
     "metadata": {},
     "output_type": "execute_result"
    }
   ],
   "source": [
    "from PIL import Image\n",
    "img=Image.open('BST1.png')\n",
    "img"
   ]
  },
  {
   "cell_type": "markdown",
   "id": "b6bbb9af",
   "metadata": {},
   "source": [
    "In the above figure, we can observe that the root node is 40, and all the nodes of the left subtree are smaller than the root node, and all the nodes of the right subtree are greater than the root node.\n",
    "\n",
    "Similarly, we can see the left child of root node is greater than its left child and smaller than its right child. So, it also satisfies the property of binary search tree. Therefore, we can say that the tree in the above image is a binary search tree"
   ]
  },
  {
   "cell_type": "code",
   "execution_count": 25,
   "id": "9476d48b",
   "metadata": {},
   "outputs": [
    {
     "data": {
      "image/png": "[encoded data removed]",
      "text/plain": [
       "<PIL.PngImagePlugin.PngImageFile image mode=P size=405x274>"
      ]
     },
     "execution_count": 25,
     "metadata": {},
     "output_type": "execute_result"
    }
   ],
   "source": [
    "from PIL import Image\n",
    "img2=Image.open('Tree2.png')\n",
    "img2"
   ]
  },
  {
   "cell_type": "markdown",
   "id": "77dd9062",
   "metadata": {},
   "source": [
    "In the above tree, the value of root node is 40, which is greater than its left child 30 but smaller than right child of 30,\n",
    "i.e., 55. So, the above tree does not satisfy the property of Binary search tree. Therefore, the above tree is not a binary search tree."
   ]
  },
  {
   "cell_type": "markdown",
   "id": "f21525f1",
   "metadata": {},
   "source": [
    "# Advantages of BST\n",
    "1.In-Order traversal of BST gives ascending order of elements.\n",
    "\n",
    "2.As compared to Array and Linked List, Insertion and Deletion are faster in BST."
   ]
  },
  {
   "cell_type": "markdown",
   "id": "2899c823",
   "metadata": {},
   "source": [
    "#Operations in BST\n",
    "\n",
    "1)Insertion\n",
    "\n",
    "2)Traversal\n",
    "\n",
    "3)Searching\n",
    "\n",
    "4)Deletion"
   ]
  },
  {
   "cell_type": "code",
   "execution_count": 16,
   "id": "9f2da089",
   "metadata": {},
   "outputs": [
    {
     "name": "stdout",
     "output_type": "stream",
     "text": [
      "Your BST In-order Traversal: 30 40 50 60 72 "
     ]
    }
   ],
   "source": [
    "#1.Insertion and Traversal in BST\n",
    "class _Node:\n",
    "    __slots__='_element','_left','_right'\n",
    "    def __init__(self,element,left=None,right=None):\n",
    "        self._element=element\n",
    "        self._left=left\n",
    "        self._right=right\n",
    "class BinarySearchTree:\n",
    "    def __init__(self):\n",
    "        self._root=None\n",
    "        \n",
    "    def recursive_insertion(self,troot,e):\n",
    "        if(troot):\n",
    "            if(e>troot._element):\n",
    "                troot._right=self.recursive_insertion(troot._right,e)\n",
    "            elif(e<troot._element):\n",
    "                troot._left=self.recursive_insertion(troot._left,e)\n",
    "        else:\n",
    "            new_node=_Node(e)\n",
    "            troot=new_node\n",
    "        return troot\n",
    "    \n",
    "    def inOrderTraversal(self,proot):\n",
    "        if(proot):\n",
    "            self.inOrderTraversal(proot._left)\n",
    "            print(proot._element,end=\" \")\n",
    "            self.inOrderTraversal(proot._right)\n",
    "        else:\n",
    "            return\n",
    "        \n",
    "if __name__==\"__main__\":\n",
    "    bst=BinarySearchTree()\n",
    "    bst._root=bst.recursive_insertion(bst._root,50)\n",
    "    bst.recursive_insertion(bst._root,60)\n",
    "    bst.recursive_insertion(bst._root,40)\n",
    "    bst.recursive_insertion(bst._root,30)\n",
    "    bst.recursive_insertion(bst._root,72)\n",
    "    print(\"Your BST In-order Traversal:\",end=\" \")\n",
    "    bst.inOrderTraversal(bst._root)"
   ]
  },
  {
   "cell_type": "code",
   "execution_count": 67,
   "id": "9231da05",
   "metadata": {},
   "outputs": [
    {
     "name": "stdout",
     "output_type": "stream",
     "text": [
      "In-Order Traversal of BST: 10 30 40 50 60 80 90 90 \n",
      "Element available\n"
     ]
    }
   ],
   "source": [
    "# Searching an Element in BST\n",
    "class TreeNode:\n",
    "    __slots__='element','left','right'\n",
    "    def __init__(self,element,left=None,right=None):\n",
    "        self.element=element\n",
    "        self.left=left\n",
    "        self.right=right\n",
    "        \n",
    "class BinarySearchTree:\n",
    "        \n",
    "    def recursive_insert(self,iroot,e):\n",
    "        if(not iroot):\n",
    "            return TreeNode(e)\n",
    "        elif(e>iroot.element):\n",
    "            iroot.right=self.recursive_insert(iroot.right,e)\n",
    "        else:\n",
    "            iroot.left=self.recursive_insert(iroot.left,e)\n",
    "        \n",
    "        return iroot\n",
    "    \n",
    "    #In-Order traversal of BST\n",
    "    def inOrderTraversal(self,proot):\n",
    "        if(proot):\n",
    "            self.inOrderTraversal(proot.left)\n",
    "            print(proot.element,end=\" \")\n",
    "            self.inOrderTraversal(proot.right)\n",
    "        else:\n",
    "            return\n",
    "    \n",
    "    #Searching element with iterative method    \n",
    "    def search(self,sroot,key):\n",
    "        while(sroot):\n",
    "            if(sroot.element==key):\n",
    "                return True\n",
    "            elif(key>sroot.element):\n",
    "                sroot=sroot.right\n",
    "            else:\n",
    "                sroot=sroot.left\n",
    "        return False\n",
    "    \n",
    "if __name__==\"__main__\":\n",
    "    bst=BinarySearchTree()\n",
    "    root=None\n",
    "    NodeValue=[50,30,80,10,40,60,90]\n",
    "    for value in NodeValue:\n",
    "        root=bst.recursive_insert(root,value)\n",
    "        \n",
    "    bst.recursive_insert(root,90)\n",
    "    print(\"In-Order Traversal of BST:\",end=\" \")\n",
    "    bst.inOrderTraversal(root)\n",
    "    if(bst.search(root,40)):\n",
    "        print(\"\\nElement available\")\n",
    "    else:\n",
    "        print(\"Not Found\")\n",
    "    "
   ]
  },
  {
   "cell_type": "markdown",
   "id": "877a98de",
   "metadata": {},
   "source": [
    "# Deletion of nodes in BST\n",
    "\n",
    "Case I.   Leaf Node deletion\n",
    "\n",
    "Case II.  Deletion Node has only one child\n",
    "\n",
    "Case III. Deletion Node has two child"
   ]
  },
  {
   "cell_type": "code",
   "execution_count": 64,
   "id": "672e330f",
   "metadata": {},
   "outputs": [
    {
     "name": "stdout",
     "output_type": "stream",
     "text": [
      "In-Order Traversal of BST Before deletion: 12 15 40 45 52 56 60 65 70 90 95 \n",
      "In-Order Traversal of BST After  deletion: 12 15 40 45 52 60 65 70 90 95 "
     ]
    }
   ],
   "source": [
    "# Implementation of Node Deletion in BST.\n",
    "class TreeNode:\n",
    "    __slots__='element','left','right'\n",
    "    def __init__(self,element,left=None,right=None):\n",
    "        self.element=element\n",
    "        self.left=left\n",
    "        self.right=right\n",
    "        \n",
    "class BinarySearchTree:\n",
    "\n",
    "    def rec_insert(self,iroot,e):\n",
    "        if(iroot):\n",
    "            if(e>iroot.element):\n",
    "                iroot.right=self.rec_insert(iroot.right,e)\n",
    "            elif(e<iroot.element):\n",
    "                iroot.left=self.rec_insert(iroot.left,e)\n",
    "        else:\n",
    "            new_node=TreeNode(e)\n",
    "            iroot=new_node\n",
    "        return iroot\n",
    "    \n",
    "    def inorderTraversal(self,proot):\n",
    "        if(proot):\n",
    "            self.inorderTraversal(proot.left)\n",
    "            print(proot.element,end=\" \")\n",
    "            self.inorderTraversal(proot.right)\n",
    "        else:\n",
    "            return\n",
    "        \n",
    "    def delete_node(self,droot,key):\n",
    "        # if root doesn't exist, just return it.\n",
    "        if(not droot):\n",
    "            return\n",
    "        # Find the node in the left subtree\tif key value is less than root value.\n",
    "        if(droot.element>key):\n",
    "            droot.left=self.delete_node(droot.left,key)\n",
    "        # Find the node in right subtree if key value is greater than root value.\n",
    "        elif(droot.element<key):\n",
    "            droot.right=self.delete_node(droot.right,key)\n",
    "        # Delete the node if root.value == key\n",
    "        else:\n",
    "            # If there is no right children delete the node and new root would be root.left\n",
    "            if(not droot.right):\n",
    "                return droot.left\n",
    "            # If there is no left children delete the node and new root would be root.right\n",
    "            if(not droot.left):\n",
    "                return droot.right\n",
    "            '''\n",
    "            If both left and right children exist in the node replace its value with the minmimum value in the right\n",
    "            subtree. Now delete that minimum node in the right subtree\n",
    "            '''\n",
    "            temp= droot.right\n",
    "            mini_val = temp.element\n",
    "            while temp.left:\n",
    "                temp = temp.left\n",
    "                mini_val = temp.element\n",
    "  # Delete the minimum node in right subtree\n",
    "        droot.right = self.delete_node(droot.right,droot.element)\n",
    "        return droot\n",
    "            \n",
    "if __name__==\"__main__\":\n",
    "    bst=BinarySearchTree()\n",
    "    root=None\n",
    "    \n",
    "    NodeList=[40,12,15,65,60,90,52,70,95,45,56]\n",
    "    for val in NodeList:\n",
    "        root=bst.rec_insert(root,val)\n",
    "        \n",
    "    print(\"In-Order Traversal of BST Before deletion:\",end=\" \")\n",
    "    bst.inorderTraversal(root)\n",
    "    print()\n",
    "    print(\"In-Order Traversal of BST After  deletion:\",end=\" \")\n",
    "    bst.delete_node(root,56)\n",
    "    bst.inorderTraversal(root)"
   ]
  },
  {
   "cell_type": "markdown",
   "id": "70710eec",
   "metadata": {},
   "source": [
    "# Time and Space Complexity of BST \n",
    "Search:\n",
    "    \n",
    "    WORST CASE   : O(N)\n",
    "    AVERAGE CASE : O(logN)\n",
    "    BEST CASE    : O(1)\n",
    "    SPACE        : O(N)\n",
    "  \n",
    "Insert:\n",
    "    \n",
    "    WORST CASE   : O(N)\n",
    "    AVERAGE CASE : O(logN)\n",
    "    BEST CASE    : O(1)\n",
    "    SPACE        : O(N)\n",
    "    \n",
    "Delete:\t   \n",
    "    \n",
    "    WORST CASE   : O(N)\n",
    "    AVERAGE CASE : O(logN)\n",
    "    BEST CASE    : O(N)\n",
    "    SPACE        : O(N)\n",
    "Note: Where \"N\" is the Number of Nodes in BST.\n",
    "\n",
    "Worst case is Right Skewed or Left Skewed Tree.\n",
    "\n",
    "Average Case: Balanced binary Search Tree.(height difference of left and right subtree not more than one."
   ]
  },
  {
   "cell_type": "markdown",
   "id": "297c55fb",
   "metadata": {},
   "source": [
    "# AVL Tree"
   ]
  },
  {
   "cell_type": "markdown",
   "id": "61269f68",
   "metadata": {},
   "source": [
    "AVL Tree is invented by GM Adelson - Velsky and EM Landis in 1962. The tree is named AVL in honour of its inventors.\n",
    "\n",
    "AVL Tree can be defined as height balanced binary search tree in which each node is associated with a balance factor which is calculated by subtracting the height of its right sub-tree from that of its left sub-tree.\n",
    "\n",
    "Tree is said to be balanced if balance factor of each node is in between -1 to 1, otherwise, the tree will be unbalanced and need to be balanced.\n",
    "\n",
    "Balance Factor (k) = height (left(k)) - height (right(k))"
   ]
  },
  {
   "cell_type": "code",
   "execution_count": 1,
   "id": "8d4012b3",
   "metadata": {},
   "outputs": [
    {
     "data": {
      "image/png": "[encoded data removed]",
      "text/plain": [
       "<PIL.PngImagePlugin.PngImageFile image mode=P size=444x525>"
      ]
     },
     "execution_count": 1,
     "metadata": {},
     "output_type": "execute_result"
    }
   ],
   "source": [
    "# See the below image for balancing factor calculation\n",
    "from PIL import Image\n",
    "picture=Image.open('avl_tree.png')\n",
    "picture"
   ]
  },
  {
   "cell_type": "markdown",
   "id": "ef45812a",
   "metadata": {},
   "source": [
    "# Why AVL Tree?"
   ]
  },
  {
   "cell_type": "markdown",
   "id": "b3945db7",
   "metadata": {},
   "source": [
    "AVL tree controls the height of the binary search tree by not letting it to be skewed. The time taken for all operations\n",
    "in a binary search tree of n nodes is O(log n). \n",
    "However, it can be extended to O(n) if the BST becomes skewed (worst case).\n",
    "By limiting this height to log n, AVL tree imposes an upper bound on each operation to be O(log n) where n is the number\n",
    "of nodes"
   ]
  },
  {
   "cell_type": "markdown",
   "id": "ee1e277a",
   "metadata": {},
   "source": [
    "# Operations in AVL Tree"
   ]
  },
  {
   "cell_type": "raw",
   "id": "b0a10fbd",
   "metadata": {},
   "source": [
    "Insertion:\n",
    "    Insertion in AVL tree is performed in the same way as it is performed in a binary search tree.\n",
    "    However, it may lead to violation in the AVL tree property and therefore the tree may need balancing.\n",
    "    The tree can be balanced by applying rotations.\n",
    "\n",
    "Deletion:\n",
    "    Deletion can also be performed in the same way as it is performed in a binary search tree.\n",
    "    Deletion may also disturb the balance of the tree therefore, various types of rotations are used to rebalance the tree."
   ]
  },
  {
   "cell_type": "markdown",
   "id": "04b9f21b",
   "metadata": {},
   "source": [
    "# AVL Tree Rotations"
   ]
  },
  {
   "cell_type": "code",
   "execution_count": 3,
   "id": "69c09ccd",
   "metadata": {},
   "outputs": [
    {
     "data": {
      "image/png": "[encoded data removed]",
      "text/plain": [
       "<PIL.JpegImagePlugin.JpegImageFile image mode=RGB size=500x185>"
      ]
     },
     "execution_count": 3,
     "metadata": {},
     "output_type": "execute_result"
    }
   ],
   "source": [
    "'''\n",
    "1. RR Rotaions:\n",
    "        When BST becomes unbalanced, due to a node is inserted into the right subtree of the right subtree of A,\n",
    "        then we perform RR rotation, RR rotation is an anticlockwise rotation, which is applied on the edge below a node\n",
    "        having balance factor -2. Where A is Root Node.\n",
    "        '''\n",
    "from PIL import Image\n",
    "RR_rotation_pic=Image.open('RR_Rotation.jpg')\n",
    "RR_rotation_pic"
   ]
  },
  {
   "cell_type": "code",
   "execution_count": 1,
   "id": "e4da62f5",
   "metadata": {},
   "outputs": [
    {
     "data": {
      "image/png": "[encoded data removed]",
      "text/plain": [
       "<PIL.JpegImagePlugin.JpegImageFile image mode=RGB size=500x181>"
      ]
     },
     "execution_count": 1,
     "metadata": {},
     "output_type": "execute_result"
    }
   ],
   "source": [
    "'''\n",
    "2. LL Rotation:\n",
    "        When BST becomes unbalanced, due to a node is inserted into the left subtree of the left subtree of C,\n",
    "        then we perform LL rotation, LL rotation is clockwise rotation, which is applied on the edge below a node\n",
    "        having balance factor 2.\n",
    "'''\n",
    "from PIL import Image\n",
    "LL_Rotation_pic=Image.open('LL_Rotation.jpg')\n",
    "LL_Rotation_pic"
   ]
  },
  {
   "cell_type": "code",
   "execution_count": 3,
   "id": "ea84c03a",
   "metadata": {},
   "outputs": [
    {
     "data": {
      "image/png": "[encoded data removed]",
      "text/plain": [
       "<PIL.JpegImagePlugin.JpegImageFile image mode=RGB size=80x150>"
      ]
     },
     "execution_count": 3,
     "metadata": {},
     "output_type": "execute_result"
    }
   ],
   "source": [
    "'''\n",
    "3. LR Rotation:\n",
    "        A node B has been inserted into the right subtree of A the left subtree of C, because of which C has become an\n",
    "        unbalanced node having balance factor 2. \n",
    "        When a node balancing factor becomes out of range[-1,1] due to element insertion from left to right.\n",
    "        so first we interchange the element from L to R position then we perform RR rotaion to balance it.\n",
    "'''\n",
    "from PIL import Image\n",
    "pic1=Image.open('LR_Rotation.jpg')\n",
    "pic1"
   ]
  },
  {
   "cell_type": "code",
   "execution_count": 4,
   "id": "daaf3545",
   "metadata": {},
   "outputs": [
    {
     "data": {
      "image/png": "[encoded data removed]",
      "text/plain": [
       "<PIL.JpegImagePlugin.JpegImageFile image mode=RGB size=111x150>"
      ]
     },
     "execution_count": 4,
     "metadata": {},
     "output_type": "execute_result"
    }
   ],
   "source": [
    "# After interchanging node A to node B then it will become like LL rotation\n",
    "pic2=Image.open('LR_mid_rotation.jpg')\n",
    "pic2"
   ]
  },
  {
   "cell_type": "code",
   "execution_count": 5,
   "id": "c3c2c29d",
   "metadata": {},
   "outputs": [
    {
     "data": {
      "image/png": "[encoded data removed]",
      "text/plain": [
       "<PIL.JpegImagePlugin.JpegImageFile image mode=RGB size=131x110>"
      ]
     },
     "execution_count": 5,
     "metadata": {},
     "output_type": "execute_result"
    }
   ],
   "source": [
    "# Now we perform LL rotation and we will get balance avl tree\n",
    "pic3=Image.open('LR_fin_rotation.jpg')\n",
    "pic3"
   ]
  },
  {
   "cell_type": "code",
   "execution_count": 6,
   "id": "4b813b59",
   "metadata": {},
   "outputs": [
    {
     "data": {
      "image/png": "[encoded data removed]",
      "text/plain": [
       "<PIL.JpegImagePlugin.JpegImageFile image mode=RGB size=80x170>"
      ]
     },
     "execution_count": 6,
     "metadata": {},
     "output_type": "execute_result"
    }
   ],
   "source": [
    "'''\n",
    "4. RL Rotation:\n",
    "        A node B has been inserted into the left subtree of C the right subtree of A, because of which A has become an\n",
    "        unbalanced node having balance factor - 2.\n",
    "        \n",
    "'''\n",
    "p3=Image.open('RL_rotate.jpg')\n",
    "p3"
   ]
  },
  {
   "cell_type": "code",
   "execution_count": 7,
   "id": "4399584a",
   "metadata": {},
   "outputs": [
    {
     "data": {
      "image/png": "[encoded data removed]",
      "text/plain": [
       "<PIL.JpegImagePlugin.JpegImageFile image mode=RGB size=117x160>"
      ]
     },
     "execution_count": 7,
     "metadata": {},
     "output_type": "execute_result"
    }
   ],
   "source": [
    "# Interchange the node C to node B\n",
    "p4=Image.open('RL_mid_rotation.jpg')\n",
    "p4"
   ]
  },
  {
   "cell_type": "code",
   "execution_count": 8,
   "id": "cd693482",
   "metadata": {},
   "outputs": [
    {
     "data": {
      "image/png": "[encoded data removed]",
      "text/plain": [
       "<PIL.JpegImagePlugin.JpegImageFile image mode=RGB size=131x110>"
      ]
     },
     "execution_count": 8,
     "metadata": {},
     "output_type": "execute_result"
    }
   ],
   "source": [
    "# Now it becomes the case of RR rotation so after performing RR rotation, will get the final balanced AVL tree.\n",
    "p5=Image.open('RL_fin_rotation.jpg')\n",
    "p5"
   ]
  },
  {
   "cell_type": "markdown",
   "id": "c83d2220",
   "metadata": {},
   "source": [
    "# Implementation of AVL Tree(Insertion)"
   ]
  },
  {
   "cell_type": "code",
   "execution_count": 63,
   "id": "55f04087",
   "metadata": {},
   "outputs": [
    {
     "name": "stdout",
     "output_type": "stream",
     "text": [
      "Preorder traversal of the constructed AVL tree is: \n",
      "30 20 10 25 40 50 "
     ]
    }
   ],
   "source": [
    "# Below the implementation of AVL Tree after with Insertion\n",
    "class TreeNode:\n",
    "    __slots__='value','left','right','height'\n",
    "    def __init__(self, value,left=None,right=None):\n",
    "        self.value = value\n",
    "        self.left = left\n",
    "        self.right = right\n",
    "        self.height = 1\n",
    "\n",
    "class AVLTree:\n",
    "\n",
    "    def insert(self, root, key):\n",
    "        # Step 1 - Perform normal BST\n",
    "        if not root:\n",
    "            return TreeNode(key)\n",
    "        elif key < root.value:\n",
    "            root.left = self.insert(root.left, key)\n",
    "        else:\n",
    "            root.right = self.insert(root.right, key)\n",
    "            \n",
    "        # Step 2 - Update the height of the ancestor node\n",
    "        root.height = 1 + max(self.getHeight(root.left),self.getHeight(root.right))\n",
    "        \n",
    "        # Step 3 - Get the balance factor after every node insertion \n",
    "        balance = self.getBalalanceFactor(root)\n",
    "        \n",
    "        # Step 4 - If the node is unbalanced,then try out the 4 cases\n",
    "        # Case 1 - Left Left\n",
    "        if balance > 1 and key < root.left.value:\n",
    "            return self.rightRotate(root)\n",
    "        \n",
    "        # Case 2 - Right Right\n",
    "        if balance < -1 and key > root.right.value:\n",
    "            return self.leftRotate(root)\n",
    "        \n",
    "         # Case 3 - Left Right\n",
    "        if balance > 1 and key > root.left.value:\n",
    "            root.left = self.leftRotate(root.left)\n",
    "            return self.rightRotate(root)\n",
    "\n",
    "         # Case 4 - Right Left\n",
    "        if balance < -1 and key < root.right.value:\n",
    "            root.right = self.rightRotate(root.right)\n",
    "            return self.leftRotate(root)\n",
    "\n",
    "        return root\n",
    "\n",
    "    def leftRotate(self, z):\n",
    "\n",
    "        y = z.right\n",
    "        T2 = y.left\n",
    "        \n",
    "        # Perform rotation\n",
    "        y.left = z\n",
    "        z.right = T2\n",
    "        \n",
    "        # Update heights\n",
    "        z.height = 1 + max(self.getHeight(z.left),self.getHeight(z.right))\n",
    "        y.height = 1 + max(self.getHeight(y.left),self.getHeight(y.right))\n",
    "\n",
    "        return y\n",
    "\n",
    "    def rightRotate(self, z):\n",
    "\n",
    "        y = z.left\n",
    "        T3 = y.right\n",
    "\n",
    "        # Perform rotation\n",
    "        y.right = z\n",
    "        z.left = T3\n",
    "\n",
    "        # Update heights\n",
    "        z.height= 1 + max(self.getHeight(z.left),self.getHeight(z.right))\n",
    "        y.height = 1 + max(self.getHeight(y.left),self.getHeight(y.right))\n",
    "\n",
    "        return y\n",
    "\n",
    "    def getHeight(self, root):\n",
    "        if not root:\n",
    "            return 0\n",
    "\n",
    "        return root.height\n",
    "\n",
    "    def getBalalanceFactor(self, root):\n",
    "        if not root:\n",
    "            return 0\n",
    "\n",
    "        return self.getHeight(root.left) - self.getHeight(root.right)\n",
    "\n",
    "    def preOrder(self, root):\n",
    "\n",
    "        if not root:\n",
    "            return\n",
    "\n",
    "        print(\"{0} \".format(root.value), end=\"\")\n",
    "        self.preOrder(root.left)\n",
    "        self.preOrder(root.right)\n",
    "\n",
    "if __name__==\"__main__\":\n",
    "    Tree = AVLTree()\n",
    "    root = None\n",
    "    element=[10,20,30,40,50,25]\n",
    "    for val in element:\n",
    "        root = Tree.insert(root, val)\n",
    "\n",
    "# Preorder Traversal\n",
    "    print(\"Preorder traversal of the constructed AVL tree is: \")\n",
    "    Tree.preOrder(root)"
   ]
  },
  {
   "cell_type": "markdown",
   "id": "9ad3b30f",
   "metadata": {},
   "source": [
    "# Implementation of AVL Tree(Deletion)"
   ]
  },
  {
   "cell_type": "code",
   "execution_count": 26,
   "id": "63207ecd",
   "metadata": {},
   "outputs": [
    {
     "name": "stdout",
     "output_type": "stream",
     "text": [
      "Preorder Traversal after insertion -\n",
      "9 1 0 -1 5 2 6 10 11 \n",
      "Preorder Traversal after deletion -\n",
      "1 0 -1 9 5 2 6 11 \n"
     ]
    }
   ],
   "source": [
    "# Python code to delete a node in AVL tree\n",
    "# Generic tree node class\n",
    "class TreeNode:\n",
    "    __slots__='value','left','right','height'\n",
    "    def __init__(self, value,left=None,right=None):\n",
    "        self.value = value\n",
    "        self.left = left\n",
    "        self.right = right\n",
    "        self.height = 1\n",
    "\n",
    "# AVL tree class which supports insertion,\n",
    "# deletion operations\n",
    "class AVL_Tree:\n",
    "\n",
    "    def insert(self, root, key):\n",
    "\n",
    "        # Step 1 - Perform normal BST\n",
    "        if not root:\n",
    "            return TreeNode(key)\n",
    "        elif key < root.value:\n",
    "            root.left = self.insert(root.left, key)\n",
    "        else:\n",
    "            root.right = self.insert(root.right, key)\n",
    "\n",
    "        # Step 2 - Update the height of the ancestor node\n",
    "        root.height = 1 + max(self.getHeight(root.left),self.getHeight(root.right))\n",
    "\n",
    "        # Step 3 - Get the balance factor\n",
    "        balance = self.getBalance(root)\n",
    "\n",
    "        # Step 4 - If the node is unbalanced, then try out the 4 cases\n",
    "        # Case 1 - Left Left\n",
    "        if balance > 1 and key < root.left.value:\n",
    "            return self.rightRotate(root)\n",
    "\n",
    "        # Case 2 - Right Right\n",
    "        if balance < -1 and key > root.right.value:\n",
    "            return self.leftRotate(root)\n",
    "\n",
    "        # Case 3 - Left Right\n",
    "        if balance > 1 and key > root.left.value:\n",
    "            root.left = self.leftRotate(root.left)\n",
    "            return self.rightRotate(root)\n",
    "\n",
    "        # Case 4 - Right Left\n",
    "        if balance < -1 and key < root.right.value:\n",
    "            root.right = self.rightRotate(root.right)\n",
    "            return self.leftRotate(root)\n",
    "\n",
    "        return root\n",
    "\n",
    "# Recursive function to delete a node with given key from subtree with given root. It returns root of the modified subtree.\n",
    "    def delete(self, root, key):\n",
    "\n",
    "        # Step 1 - Perform standard BST delete\n",
    "        if not root:\n",
    "            return root\n",
    "\n",
    "        elif key < root.value:\n",
    "            root.left = self.delete(root.left, key)\n",
    "\n",
    "        elif key > root.value:\n",
    "            root.right = self.delete(root.right, key)\n",
    "\n",
    "        else:\n",
    "            if root.left is None:\n",
    "                temp = root.right\n",
    "                root = None\n",
    "                return temp\n",
    "\n",
    "            elif root.right is None:\n",
    "                temp = root.left\n",
    "                root = None\n",
    "                return temp\n",
    "\n",
    "            temp = self.getMinValueNode(root.right)\n",
    "            root.val = temp.value\n",
    "            root.right = self.delete(root.right,temp.value)\n",
    "\n",
    "# If the tree has only one node,simply return it\n",
    "        if root is None:\n",
    "            return root\n",
    "\n",
    "        # Step 2 - Update the height of the ancestor node\n",
    "        root.height = 1 + max(self.getHeight(root.left),self.getHeight(root.right))\n",
    "\n",
    "        # Step 3 - Get the balance factor\n",
    "        balance = self.getBalance(root)\n",
    "\n",
    "    # Step 4 - If the node is unbalanced, then try out the 4 cases\n",
    "        # Case 1 - Left Left\n",
    "        if balance > 1 and self.getBalance(root.left) >= 0:\n",
    "            return self.rightRotate(root)\n",
    "\n",
    "        # Case 2 - Right Right\n",
    "        if balance < -1 and self.getBalance(root.right) <= 0:\n",
    "            return self.leftRotate(root)\n",
    "\n",
    "        # Case 3 - Left Right\n",
    "        if balance > 1 and self.getBalance(root.left) < 0:\n",
    "            root.left = self.leftRotate(root.left)\n",
    "            return self.rightRotate(root)\n",
    "\n",
    "        # Case 4 - Right Left\n",
    "        if balance < -1 and self.getBalance(root.right) > 0:\n",
    "            root.right = self.rightRotate(root.right)\n",
    "            return self.leftRotate(root)\n",
    "\n",
    "        return root\n",
    "\n",
    "    def leftRotate(self, z):\n",
    "\n",
    "        y = z.right\n",
    "        T2 = y.left\n",
    "\n",
    "        # Perform rotation\n",
    "        y.left = z\n",
    "        z.right = T2\n",
    "\n",
    "        # Update heights\n",
    "        z.height = 1 + max(self.getHeight(z.left),self.getHeight(z.right))\n",
    "        y.height = 1 + max(self.getHeight(y.left),self.getHeight(y.right))\n",
    "\n",
    "        # Return the new root\n",
    "        return y\n",
    "\n",
    "    def rightRotate(self, z):\n",
    "\n",
    "        y = z.left\n",
    "        T3 = y.right\n",
    "        # Perform rotation\n",
    "        y.right = z\n",
    "        z.left = T3\n",
    "\n",
    "        # Update heights\n",
    "        z.height = 1 + max(self.getHeight(z.left),self.getHeight(z.right))\n",
    "        y.height = 1 + max(self.getHeight(y.left),self.getHeight(y.right))\n",
    "\n",
    "        # Return the new root\n",
    "        return y\n",
    "\n",
    "    def getHeight(self, root):\n",
    "        if not root:\n",
    "            return 0\n",
    "\n",
    "        return root.height\n",
    "\n",
    "    def getBalance(self, root):\n",
    "        if not root:\n",
    "            return 0\n",
    "\n",
    "        return self.getHeight(root.left) - self.getHeight(root.right)\n",
    "\n",
    "    def getMinValueNode(self, root):\n",
    "        if root is None or root.left is None:\n",
    "            return root\n",
    "\n",
    "        return self.getMinValueNode(root.left)\n",
    "\n",
    "    def preOrder(self, root):\n",
    "\n",
    "        if not root:\n",
    "            return\n",
    "\n",
    "        print(\"{0} \".format(root.value), end=\"\")\n",
    "        self.preOrder(root.left)\n",
    "        self.preOrder(root.right)\n",
    "\n",
    "#Python Main function to organize function call\n",
    "if __name__==\"__main__\":\n",
    "    myTree = AVL_Tree()\n",
    "    root = None\n",
    "    nums = [9, 5, 10, 0, 6, 11, -1, 1, 2]\n",
    "\n",
    "    for num in nums:\n",
    "        root = myTree.insert(root, num)\n",
    "\n",
    "    # Preorder Traversal\n",
    "    print(\"Preorder Traversal after insertion -\")\n",
    "    myTree.preOrder(root)\n",
    "    print()\n",
    "\n",
    "    # Delete\n",
    "    key = 10\n",
    "    root = myTree.delete(root, key)\n",
    "\n",
    "    # Preorder Traversal\n",
    "    print(\"Preorder Traversal after deletion -\")\n",
    "    myTree.preOrder(root)\n",
    "    print()"
   ]
  },
  {
   "cell_type": "markdown",
   "id": "2f44d17c",
   "metadata": {},
   "source": [
    "# Priority Queue"
   ]
  },
  {
   "cell_type": "markdown",
   "id": "b37c1169",
   "metadata": {},
   "source": [
    "    A priority Queue is an extension of the queue, that contains prioritized collection of objects.\n",
    "    Every item has a priority associated with it.\n",
    "    An element with high priority is dequeued before an element with low priority.\n",
    "    If two elements have the same priority, they are served according to their order in the queue."
   ]
  },
  {
   "cell_type": "markdown",
   "id": "c95c753a",
   "metadata": {},
   "source": [
    "# How to Implement Priority Queue? "
   ]
  },
  {
   "cell_type": "markdown",
   "id": "c030584e",
   "metadata": {},
   "source": [
    "Priority queue can be implemented using the following data structures: \n",
    "\n",
    "    Arrays\n",
    "    Linked list\n",
    "    Heap data structure\n",
    "    Binary search tree"
   ]
  },
  {
   "cell_type": "markdown",
   "id": "61737dd8",
   "metadata": {},
   "source": [
    "# Important Note"
   ]
  },
  {
   "cell_type": "markdown",
   "id": "c74e06c1",
   "metadata": {},
   "source": [
    "Binary Heap is generally preferred for priority queue implementation because heaps provide better performance compared to arrays or LinkedList."
   ]
  },
  {
   "cell_type": "markdown",
   "id": "071f9b75",
   "metadata": {},
   "source": [
    "# Heap Data Structure"
   ]
  },
  {
   "cell_type": "markdown",
   "id": "b61ad937",
   "metadata": {},
   "source": [
    "    A Heap is a special Tree-based data structure in which the tree is a complete binary tree.\n",
    "    \n",
    "    Heapify:  A process of creating a heap from an array.\n",
    "    Insertion: Process to insert an element in existing heap time complexity O(log N).\n",
    "    Deletion: Deleting the top element of the heap or the highest priority element, and then organizing the heap and\n",
    "              returning the element with time complexity O(log N).\n",
    "    Peek: To check or find the most prior element in the heap, (max or min element for max and min heap).\n"
   ]
  },
  {
   "cell_type": "markdown",
   "id": "e78390c4",
   "metadata": {},
   "source": [
    "#Types of Heap:\n",
    "\n",
    "    Max-Heap: In a Max-Heap the key present at the root node must be greater equal among the keys present at all of it’s\n",
    "              children. The same property must be recursively true for all sub-trees in that Binary Tree.\n",
    "            \n",
    "    Min-Heap: In a Min-Heap the key present at the root node must be minimum or equal among the keys present at all of it’s\n",
    "              children. The same property must be recursively true for all sub-trees in that Binary Tree."
   ]
  },
  {
   "cell_type": "code",
   "execution_count": 13,
   "id": "42aef5a8",
   "metadata": {},
   "outputs": [
    {
     "data": {
      "image/png": "[encoded data removed]",
      "text/plain": [
       "<PIL.Image.Image image mode=RGB size=500x300>"
      ]
     },
     "execution_count": 13,
     "metadata": {},
     "output_type": "execute_result"
    }
   ],
   "source": [
    "from PIL import Image\n",
    "heap=Image.open('MinHeap_MaxHeap.png')\n",
    "pic=heap.resize((500,300))\n",
    "pic"
   ]
  },
  {
   "cell_type": "markdown",
   "id": "5b623aa8",
   "metadata": {},
   "source": [
    "# Applications of Priority Queue"
   ]
  },
  {
   "cell_type": "markdown",
   "id": "2b7070e3",
   "metadata": {},
   "source": [
    "    CPU Scheduling\n",
    "    Graph algorithms like Dijkstra’s shortest path algorithm, Prim’s Minimum Spanning Tree, etc.\n",
    "    All queue applications where priority is involved.\n",
    "    Data compression in Huffman code\n",
    "    Event-driven simulation such as customers waiting in a queue.\n",
    "    Finding Kth largest/smallest element."
   ]
  },
  {
   "cell_type": "code",
   "execution_count": null,
   "id": "df916af8",
   "metadata": {},
   "outputs": [],
   "source": []
  }
 ],
 "metadata": {
  "kernelspec": {
   "display_name": "Python 3 (ipykernel)",
   "language": "python",
   "name": "python3"
  },
  "language_info": {
   "codemirror_mode": {
    "name": "ipython",
    "version": 3
   },
   "file_extension": ".py",
   "mimetype": "text/x-python",
   "name": "python",
   "nbconvert_exporter": "python",
   "pygments_lexer": "ipython3",
   "version": "3.9.2"
  },
  "vscode": {
   "interpreter": {
    "hash": "e8f84865b0fa00750fa5e91213c63306d6568a5a2a3fe4f0256f3576515e3244"
   }
  }
 },
 "nbformat": 4,
 "nbformat_minor": 5
}
